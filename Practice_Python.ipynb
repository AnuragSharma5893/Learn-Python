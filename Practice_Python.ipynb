{
  "nbformat": 4,
  "nbformat_minor": 0,
  "metadata": {
    "colab": {
      "provenance": []
    },
    "kernelspec": {
      "name": "python3",
      "display_name": "Python 3"
    },
    "language_info": {
      "name": "python"
    }
  },
  "cells": [
    {
      "cell_type": "markdown",
      "source": [
        "Variables name"
      ],
      "metadata": {
        "id": "Q6ukWCOgt0sp"
      }
    },
    {
      "cell_type": "code",
      "execution_count": null,
      "metadata": {
        "colab": {
          "base_uri": "https://localhost:8080/"
        },
        "id": "MnCavxAKtqXf",
        "outputId": "18b4cf8b-390c-4b77-962f-c69cb8b0e94a"
      },
      "outputs": [
        {
          "output_type": "stream",
          "name": "stdout",
          "text": [
            "Madrid\n",
            "PAris\n",
            "berlin\n"
          ]
        }
      ],
      "source": [
        "capital_of_spain = \"Madrid\"\n",
        "capital_of_france = \"PAris\"\n",
        "capital_of_germany = \"berlin\"\n",
        "\n",
        "print(capital_of_spain)\n",
        "print(capital_of_france)\n",
        "print(capital_of_germany)\n"
      ]
    },
    {
      "cell_type": "markdown",
      "source": [
        "Naming Conventions\n",
        "\n",
        "\n",
        "*   Camel case example = myVariableName\n",
        "*   Snake Case= my_variable_name\n",
        "\n",
        "\n",
        "*   Pascal Case = MyVariableName\n",
        "\n",
        "Python generaly used snake case\n",
        "\n",
        "\n",
        "\n",
        "\n"
      ],
      "metadata": {
        "id": "eQ6nWjhFuyrZ"
      }
    },
    {
      "cell_type": "code",
      "source": [
        "python_creation_case = \"Febuary, 1991\"\n",
        "\n",
        "print(python_creation_case)"
      ],
      "metadata": {
        "colab": {
          "base_uri": "https://localhost:8080/"
        },
        "id": "ibXgLgwsuDts",
        "outputId": "c6a5dd49-cab1-4596-ad05-31ea307d9e0e"
      },
      "execution_count": null,
      "outputs": [
        {
          "output_type": "stream",
          "name": "stdout",
          "text": [
            "Febuary, 1991\n"
          ]
        }
      ]
    },
    {
      "cell_type": "markdown",
      "source": [
        "Reassigning Variables\n",
        "\n",
        "messages can be reassigned in python\n"
      ],
      "metadata": {
        "id": "PzMy8OLZv0vF"
      }
    },
    {
      "cell_type": "code",
      "source": [
        "message = \"The first message\"\n",
        "print(message)\n",
        "\n",
        "message = \"the second message\"\n",
        "print(message)\n",
        "\n",
        "message = \"the third message\"\n",
        "print(message)"
      ],
      "metadata": {
        "colab": {
          "base_uri": "https://localhost:8080/"
        },
        "id": "P4sFSbQswIFg",
        "outputId": "e1186cc3-a547-46c2-f9d7-218f22a62ac9"
      },
      "execution_count": null,
      "outputs": [
        {
          "output_type": "stream",
          "name": "stdout",
          "text": [
            "The first message\n",
            "the second message\n",
            "the third message\n"
          ]
        }
      ]
    },
    {
      "cell_type": "markdown",
      "source": [
        "Multiple Assignements\n",
        "\n"
      ],
      "metadata": {
        "id": "wKX139HwwgE3"
      }
    },
    {
      "cell_type": "code",
      "source": [
        "# msg1, msg2 = \"world\", \"hello\"\n",
        "# msg3, msg4, msg5 = \"Name\", \"Is\", \"My\"\n",
        "\n",
        "# print(msg1)\n",
        "# print(msg2)\n",
        "# print(msg3)\n",
        "# print(msg4)\n",
        "# print(msg5)\n",
        "\n",
        "\n",
        "msg1, msg2 = \"world\", \"hello\"\n",
        "msg3, msg4, msg5 = \"Name\", \"Is\", \"My\"\n",
        "\n",
        "msg1, msg2 = msg2, msg1 ## message is swapped\n",
        "msg3, msg4, msg5 = msg5, msg3, msg4\n",
        "\n",
        "print(msg1)\n",
        "print(msg2)\n",
        "print(msg3)\n",
        "print(msg4)\n",
        "print(msg5)\n"
      ],
      "metadata": {
        "colab": {
          "base_uri": "https://localhost:8080/"
        },
        "id": "2JtBX2H4wp-g",
        "outputId": "4d2029e6-60a4-4f48-a090-fa53b6932115"
      },
      "execution_count": null,
      "outputs": [
        {
          "output_type": "stream",
          "name": "stdout",
          "text": [
            "hello\n",
            "world\n",
            "My\n",
            "Name\n",
            "Is\n"
          ]
        }
      ]
    },
    {
      "cell_type": "markdown",
      "source": [
        "Variable Types\n",
        "\n",
        "**integer** ## age = 12\n",
        "**floating-point bumbe**r # temperature= 20.2\n",
        "**boolean**  # is_true = True\n",
        "**string**  # name = \"Alice\"\n",
        "**list**  # my_list = [1,2,4]\n",
        "\n",
        "\n",
        "build in-function --- type()"
      ],
      "metadata": {
        "id": "VEXQuR0szTIS"
      }
    },
    {
      "cell_type": "code",
      "source": [
        "integer_type = 0\n",
        "float_type = 0.0\n",
        "bool_type = True\n",
        "String_type = \"\"\n",
        "list_type = [1,2,1]\n",
        "\n",
        "print(type(integer_type))\n",
        "print(type(float_type))\n",
        "print(type(bool_type))\n",
        "print(type(String_type))\n",
        "print(type(list_type))\n"
      ],
      "metadata": {
        "colab": {
          "base_uri": "https://localhost:8080/"
        },
        "id": "aydhB4IHzVlH",
        "outputId": "92584e6a-a3b3-4cf2-f0fa-75bfff9a69f0"
      },
      "execution_count": null,
      "outputs": [
        {
          "output_type": "stream",
          "name": "stdout",
          "text": [
            "<class 'int'>\n",
            "<class 'float'>\n",
            "<class 'bool'>\n",
            "<class 'str'>\n",
            "<class 'list'>\n"
          ]
        }
      ]
    },
    {
      "cell_type": "markdown",
      "source": [
        "\n",
        "\n",
        "\n",
        "**Dynamic Type**\n",
        "\n",
        "Dynamic typing is not a good idea\n",
        "Dynamic typing is flexible, but can be error-prone\n",
        "Static typing is safer, but can be inflexible\n",
        "\n",
        "Java is a Static type language not python"
      ],
      "metadata": {
        "id": "dT9cH5ZQ07yg"
      }
    },
    {
      "cell_type": "code",
      "source": [
        "variable = 10\n",
        "print(type(variable))\n",
        "variable = 3.14\n",
        "print(type(variable))\n",
        "variable = True\n",
        "print(type(variable))\n",
        "variable = \"abc\"\n",
        "print(type(variable))\n",
        "variable = [\"a\",\"b\"]\n",
        "print(type(variable))\n"
      ],
      "metadata": {
        "colab": {
          "base_uri": "https://localhost:8080/"
        },
        "id": "IUc87UU20QfB",
        "outputId": "a501d61b-da5d-4eb6-df15-516c2178a660"
      },
      "execution_count": null,
      "outputs": [
        {
          "output_type": "stream",
          "name": "stdout",
          "text": [
            "<class 'int'>\n",
            "<class 'float'>\n",
            "<class 'bool'>\n",
            "<class 'str'>\n",
            "<class 'list'>\n"
          ]
        }
      ]
    },
    {
      "cell_type": "markdown",
      "source": [
        "Type Casting\n",
        "in python one variable can be converted to a different type using the type casting\n",
        "\n",
        "Ex:-\n",
        " variable = 10.5\n",
        " print(int(varialble))"
      ],
      "metadata": {
        "id": "pjHGJ2z910wa"
      }
    },
    {
      "cell_type": "code",
      "source": [
        "pi = 3.1415926\n",
        "square_root_8 = 2.828427124\n",
        "\n",
        "# type casting\n",
        "pi = int(pi)\n",
        "square_root_8  = int(square_root_8)\n",
        "\n",
        "\n",
        "print(pi)\n",
        "print(square_root_8)"
      ],
      "metadata": {
        "colab": {
          "base_uri": "https://localhost:8080/"
        },
        "id": "KDi_3aXA2n_S",
        "outputId": "37b75660-8b1b-41ae-9bdd-477c6f7c486d"
      },
      "execution_count": null,
      "outputs": [
        {
          "output_type": "stream",
          "name": "stdout",
          "text": [
            "3\n",
            "2\n"
          ]
        }
      ]
    },
    {
      "cell_type": "markdown",
      "source": [
        "# Type Error\n",
        "\n",
        "ex:-\n",
        "message = \"Hello\"\n",
        "\n",
        "print(int(message))\n"
      ],
      "metadata": {
        "id": "abWyh1Oa3GCt"
      }
    },
    {
      "cell_type": "code",
      "source": [
        "##variable = \"hello\"\n",
        "variable = \"10\"\n",
        "\n",
        "## not alow to modefy below this\n",
        "print(variable)\n",
        "print(type(variable))\n",
        "\n",
        "variable = int(variable)\n",
        "\n",
        "print(variable)\n",
        "print(type(variable))"
      ],
      "metadata": {
        "colab": {
          "base_uri": "https://localhost:8080/"
        },
        "id": "Q7oj-eRG3SK2",
        "outputId": "db5ceb8d-1f7c-4d56-c027-bc41e24a411a"
      },
      "execution_count": null,
      "outputs": [
        {
          "output_type": "stream",
          "name": "stdout",
          "text": [
            "10\n",
            "<class 'str'>\n",
            "10\n",
            "<class 'int'>\n"
          ]
        }
      ]
    },
    {
      "cell_type": "markdown",
      "source": [
        "# Empty Variable\n",
        "\n",
        "Other language = null\n",
        "python = None\n",
        "\n",
        "ex:-\n",
        "var = None"
      ],
      "metadata": {
        "id": "OrRAsTXW4SiA"
      }
    },
    {
      "cell_type": "code",
      "source": [
        "var = None\n",
        "print(type(var))"
      ],
      "metadata": {
        "colab": {
          "base_uri": "https://localhost:8080/"
        },
        "id": "kwAaBt0N3sdF",
        "outputId": "b4d33be3-1f2e-4ee2-9260-6204d6188ea0"
      },
      "execution_count": null,
      "outputs": [
        {
          "output_type": "stream",
          "name": "stdout",
          "text": [
            "<class 'NoneType'>\n"
          ]
        }
      ]
    },
    {
      "cell_type": "markdown",
      "source": [
        "# Arithmetic operators\n",
        "\n",
        "+\n",
        "-\n",
        "*\n",
        "/\n",
        "\n",
        "---\n",
        "\n",
        "\n",
        "```\n",
        "# This is formatted as code\n",
        "x , y = 6,5\n",
        "\n",
        "print(x+y)\n",
        "print(x-y) # -3\n",
        "print(x*y)\n",
        "print(x/y) ## 0.5\n",
        "\n",
        "```\n",
        "\n",
        "-----\n",
        "Order of Operation in Python is same as in maths\n",
        "- Acronym ->  PEMDAS\n",
        "- Parenthesis\n",
        "- Exponents\n",
        "- Multiplication and division(from left to right)\n",
        "- Addition and Subtraction (from left ot right)\n",
        "\n",
        "\n",
        "```\n",
        "# This is formatted as code\n",
        "example =  2 + 3 * 4\n",
        "ex1= (2 + 3) * 4\n",
        "print(ex1) ## 20\n",
        "print(example) # 14\n",
        "```\n",
        "\n"
      ],
      "metadata": {
        "id": "9YgQ-EPw4rvC"
      }
    },
    {
      "cell_type": "code",
      "source": [
        "a, b, c = 2, 2 , 0.5\n",
        "total_sum = a + b + c\n",
        "product_val = a * b * c\n",
        "\n",
        "print(total_sum)\n",
        "print(0 - total_sum)\n",
        "print(product_val)\n",
        "print(total_sum / product_val)"
      ],
      "metadata": {
        "colab": {
          "base_uri": "https://localhost:8080/"
        },
        "id": "vhrbItMV5tRk",
        "outputId": "b0533f5a-5f0e-4161-cbc8-d7227b5069c7"
      },
      "execution_count": null,
      "outputs": [
        {
          "output_type": "stream",
          "name": "stdout",
          "text": [
            "4.5\n",
            "-4.5\n",
            "2.0\n",
            "2.25\n"
          ]
        }
      ]
    },
    {
      "cell_type": "markdown",
      "source": [
        "# More Operations\n",
        "- floor division //\n",
        "  * example :- x // y\n",
        "- modulus %\n",
        "  * x % y\n",
        "- exponential **\n",
        "  * x ** y\n",
        "\n",
        "  ** Precedence of these operators are**\n",
        "   - 1. Exponentiation **\n",
        "   - 2. Floor Division // and modulus %"
      ],
      "metadata": {
        "id": "U5ex8JJd7big"
      }
    },
    {
      "cell_type": "code",
      "source": [
        "a, b, c = 2, 8, 5\n",
        "product_1 = (a * b)\n",
        "\n",
        "print(product_1 // c)\n",
        "print(product_1 % c)\n",
        "print(a ** b)\n",
        "print( b ** c)\n"
      ],
      "metadata": {
        "colab": {
          "base_uri": "https://localhost:8080/"
        },
        "id": "saInT4PC8Cav",
        "outputId": "301a7352-fda1-4547-e1d5-fb3daceeb0ca"
      },
      "execution_count": null,
      "outputs": [
        {
          "output_type": "stream",
          "name": "stdout",
          "text": [
            "3\n",
            "1\n",
            "256\n",
            "32768\n"
          ]
        }
      ]
    },
    {
      "cell_type": "markdown",
      "source": [
        "# ShortHand Operators in Python\n",
        "\n",
        "\n",
        "```\n",
        "# This is formatted as code\n",
        "  count 0\n",
        "  count = count + 1\n",
        "  count = count + 2\n",
        "  print(count) ## o/p - 3\n",
        "\n",
        "\n",
        "## using shorthand\n",
        "  coun = 0\n",
        "  count += 1\n",
        "  count += 2\n",
        "  print(count) # o/p: 3  \n",
        "\n",
        "## some of them are\n",
        "  count -= 1\n",
        "  count *= 1\n",
        "  count /= 1\n",
        "  count %= 1\n",
        "  count //= 1\n",
        "  count **= 1\n",
        "```\n",
        "\n",
        "\n"
      ],
      "metadata": {
        "id": "zwec1BPQ9yye"
      }
    },
    {
      "cell_type": "code",
      "source": [
        "number = 0\n",
        "number += 5\n",
        "print(number)\n",
        "\n",
        "number -=2\n",
        "print(number)\n",
        "\n",
        "number += number # printing number to itself\n",
        "print(number)"
      ],
      "metadata": {
        "colab": {
          "base_uri": "https://localhost:8080/"
        },
        "id": "NIh4gyo4-vtu",
        "outputId": "252dcabb-ac38-412c-ee6a-57da2877838f"
      },
      "execution_count": null,
      "outputs": [
        {
          "output_type": "stream",
          "name": "stdout",
          "text": [
            "5\n",
            "3\n",
            "6\n"
          ]
        }
      ]
    },
    {
      "cell_type": "markdown",
      "source": [
        "# Boolean OR\n",
        "  - logical OR operation\n",
        "\n",
        "\n",
        "```\n",
        "# This is formatted as code\n",
        "   a = True\n",
        "   b = False\n",
        "   print(a or b) ## True\n",
        "\n",
        "## here the concept of truth table comes\n",
        "   here -- or, True , False are the keywords(reserved words)\n",
        "```\n",
        "\n"
      ],
      "metadata": {
        "id": "rQXjyvvT_RXv"
      }
    },
    {
      "cell_type": "code",
      "source": [
        "a,b,c,d = False, False, True, True\n",
        "\n",
        "print(a or b)\n",
        "print(b or c)\n",
        "print(c or d)\n",
        "print (a or b or b or d)"
      ],
      "metadata": {
        "colab": {
          "base_uri": "https://localhost:8080/"
        },
        "id": "aGDGMC8L_dM9",
        "outputId": "a0b68f66-74f0-45e9-8bcd-79a4679a1692"
      },
      "execution_count": null,
      "outputs": [
        {
          "output_type": "stream",
          "name": "stdout",
          "text": [
            "False\n",
            "True\n",
            "True\n",
            "True\n"
          ]
        }
      ]
    },
    {
      "cell_type": "markdown",
      "source": [
        "Boolean AND\n",
        "\n",
        "\n",
        "```\n",
        "# This is formatted as code\n",
        " a = True\n",
        " b = False\n",
        " print(a and b) ## false\n",
        "```\n",
        "\n"
      ],
      "metadata": {
        "id": "h4PyqKCUAhye"
      }
    },
    {
      "cell_type": "code",
      "source": [
        "a,b,c,d = False, False , True, True\n",
        "\n",
        "print(a and b )\n",
        "print(b and c )\n",
        "print(c and d )\n",
        "print(a and b and c and d)"
      ],
      "metadata": {
        "colab": {
          "base_uri": "https://localhost:8080/"
        },
        "id": "NiFVCVEwAi3V",
        "outputId": "98232c6f-55f9-4342-d271-fe4971a4df0b"
      },
      "execution_count": null,
      "outputs": [
        {
          "output_type": "stream",
          "name": "stdout",
          "text": [
            "False\n",
            "False\n",
            "True\n",
            "False\n"
          ]
        }
      ]
    },
    {
      "cell_type": "markdown",
      "source": [
        "# Boolean Negation\n",
        "  -\n",
        "\n",
        "```\n",
        "# This is formatted as code\n",
        "  a = True\n",
        "  b = False\n",
        "  print(not a) # false\n",
        "  print(not b) # true\n",
        "```\n",
        "\n",
        "\n",
        "```\n",
        "# This is formatted as code\n",
        " a,b = True, False\n",
        " print(not (a not b)) # true\n",
        "```\n",
        "\n",
        "\n",
        "NOT operation"
      ],
      "metadata": {
        "id": "Imvp_RgFBM5v"
      }
    },
    {
      "cell_type": "code",
      "source": [
        "a,b,c = False,False , True\n",
        "\n",
        "print(not a)\n",
        "print(not c)\n",
        "print(not(a and b))\n",
        "print(not (b or c))\n"
      ],
      "metadata": {
        "colab": {
          "base_uri": "https://localhost:8080/"
        },
        "id": "oAE_ehEWBsB6",
        "outputId": "9a0eb574-1b45-4c2d-e6d8-19989db6c3a3"
      },
      "execution_count": null,
      "outputs": [
        {
          "output_type": "stream",
          "name": "stdout",
          "text": [
            "True\n",
            "False\n",
            "True\n",
            "False\n"
          ]
        }
      ]
    },
    {
      "cell_type": "markdown",
      "source": [
        "# INTRODUCTION TO FUNCTIONS\n",
        "\n",
        "\n",
        "\n",
        "```\n",
        "# This is formatted as code\n",
        "  def greet():\n",
        "      print(\"Hello World!\")\n",
        "\n",
        "```\n",
        "\n"
      ],
      "metadata": {
        "id": "L-fsFf9RCSjv"
      }
    },
    {
      "cell_type": "code",
      "source": [
        "def greet():\n",
        "  print(\"Hello world!!\")\n",
        "def say_goodbye():\n",
        "  print(\"GoodBye, Guys!!\")\n",
        "\n",
        "greet() ## calling the obove functions\n",
        "say_goodbye()"
      ],
      "metadata": {
        "colab": {
          "base_uri": "https://localhost:8080/"
        },
        "id": "C4WrBk21CwP4",
        "outputId": "d461ef35-b6da-4302-daab-0064a6d020ed"
      },
      "execution_count": null,
      "outputs": [
        {
          "output_type": "stream",
          "name": "stdout",
          "text": [
            "Hello world!!\n",
            "GoodBye, Guys!!\n"
          ]
        }
      ]
    },
    {
      "cell_type": "markdown",
      "source": [
        "\n",
        "# Function Decaration\n"
      ],
      "metadata": {
        "id": "QIg4b7LPDMzt"
      }
    },
    {
      "cell_type": "code",
      "source": [
        "def print_number(n):\n",
        "   print(n)\n",
        "\n",
        "print_number(20)\n",
        "print_number(10)"
      ],
      "metadata": {
        "colab": {
          "base_uri": "https://localhost:8080/"
        },
        "id": "4ZslkK_GDYU9",
        "outputId": "34c71820-0fd4-40f1-db9f-5c9fa77a73ca"
      },
      "execution_count": null,
      "outputs": [
        {
          "output_type": "stream",
          "name": "stdout",
          "text": [
            "20\n",
            "10\n"
          ]
        }
      ]
    },
    {
      "cell_type": "markdown",
      "source": [
        "# Parameters\n",
        "\n",
        "```\n",
        "# This is formatted as code\n",
        "    def greet(name):\n",
        "        msg = \"Hello, \" + name\n",
        "        print(msg)\n",
        "\n",
        "    greet(\"Alice\") ## print as \"Hello, Alice\"\n",
        "```"
      ],
      "metadata": {
        "id": "tT6aBof6DuWH"
      }
    },
    {
      "cell_type": "code",
      "source": [
        "def farewell(name):\n",
        "   msg = \"GoodBye, \" + name\n",
        "   print(msg)\n",
        "\n",
        "farewell(\"Jeetu\") ## her we give a arguments\n",
        "farewell(\"Arjun\")\n",
        "farewell(\"NeetCode\")"
      ],
      "metadata": {
        "colab": {
          "base_uri": "https://localhost:8080/"
        },
        "id": "gtwwOTuKEX7M",
        "outputId": "64399f58-cec9-48a8-c057-261c18596f54"
      },
      "execution_count": null,
      "outputs": [
        {
          "output_type": "stream",
          "name": "stdout",
          "text": [
            "GoodBye, Jeetu\n",
            "GoodBye, Arjun\n",
            "GoodBye, NeetCode\n"
          ]
        }
      ]
    },
    {
      "cell_type": "markdown",
      "source": [
        "# Multiple parameters\n",
        "\n",
        "```\n",
        "# This is formatted as code\n",
        "  def greet(name,greeting):\n",
        "      msg = greeting + \"\" + name\n",
        "      print(msg)\n",
        "\n",
        "  greet(\"Alice\", \"Hello\")\n",
        "```\n",
        "\n"
      ],
      "metadata": {
        "id": "QRaKS0oKE3R6"
      }
    },
    {
      "cell_type": "code",
      "source": [
        "def two_sum(num1, num2):\n",
        "  print(num1, num2)\n",
        "\n",
        "def three_sum(nums1, nums2, nums3):\n",
        "  print(nums1 + nums2 + nums3)\n",
        "\n",
        "two_sum(7, 10)\n",
        "three_sum(2,3,4)\n",
        "two_sum(10,9)\n",
        "three_sum(20,12,15)\n",
        "\n"
      ],
      "metadata": {
        "colab": {
          "base_uri": "https://localhost:8080/"
        },
        "id": "DnkC3JTXFLCk",
        "outputId": "28ef7745-3119-43ad-c712-215e4ce7bf8a"
      },
      "execution_count": null,
      "outputs": [
        {
          "output_type": "stream",
          "name": "stdout",
          "text": [
            "7 10\n",
            "9\n",
            "10 9\n",
            "47\n"
          ]
        }
      ]
    },
    {
      "cell_type": "markdown",
      "source": [
        "# Return Statement\n",
        "\n",
        "\n",
        "```\n",
        "# This is formatted as code\n",
        "  def add(x,y):\n",
        "      return x + y\n",
        "  result = add(3,5)\n",
        "  print(result) ## 8\n",
        "```\n",
        "\n"
      ],
      "metadata": {
        "id": "OOcd6d-PGC1j"
      }
    },
    {
      "cell_type": "code",
      "source": [
        "def product(nums1, nums2):\n",
        "  return nums1 * nums2\n",
        "\n",
        "print(product(1,23))\n",
        "print(product(3,4))\n",
        "print(product(5,45))\n",
        "print(product(5,6))\n"
      ],
      "metadata": {
        "colab": {
          "base_uri": "https://localhost:8080/"
        },
        "id": "3pfUeYufGTAO",
        "outputId": "39e7ab07-53ac-47a7-f22d-a8ff3254b981"
      },
      "execution_count": null,
      "outputs": [
        {
          "output_type": "stream",
          "name": "stdout",
          "text": [
            "23\n",
            "12\n",
            "225\n",
            "30\n"
          ]
        }
      ]
    },
    {
      "cell_type": "markdown",
      "source": [
        "# Type Hints(Optionals)\n",
        "\n",
        "\n",
        "```\n",
        "# This is formatted as code\n",
        "\n",
        "                    #return type\n",
        "  def add(x:int, y: int) -> int:\n",
        "      return x + y\n",
        "```\n",
        "\n",
        "\n",
        "```\n",
        "# This is formatted as code\n",
        "    def greet(name: str) -> None:\n",
        "        print(\"Hello,\" + name)\n",
        "```\n",
        "\n"
      ],
      "metadata": {
        "id": "GrgfLwJKGv_C"
      }
    },
    {
      "cell_type": "code",
      "source": [
        "def greet(name: str) -> None:\n",
        "  print(\"Hello!, \" + name)\n",
        "  ##return None\n",
        "\n",
        "#greet(\"NeetCode\")\n",
        "print(type(greet(\"NeetCode\")))"
      ],
      "metadata": {
        "colab": {
          "base_uri": "https://localhost:8080/"
        },
        "id": "V0jt9xSsH7_L",
        "outputId": "7aba26b3-350f-4509-8255-36a3c32c5e7f"
      },
      "execution_count": null,
      "outputs": [
        {
          "output_type": "stream",
          "name": "stdout",
          "text": [
            "Hello!, NeetCode\n",
            "<class 'NoneType'>\n"
          ]
        }
      ]
    },
    {
      "cell_type": "markdown",
      "source": [
        "# Scope"
      ],
      "metadata": {
        "id": "3ik9A403I6If"
      }
    },
    {
      "cell_type": "code",
      "source": [
        "def add_one(n):\n",
        "  n = n + 1\n",
        "  print(n)\n",
        "\n",
        "\n",
        "n = 10\n",
        "add_one(n)\n",
        "print(n)"
      ],
      "metadata": {
        "colab": {
          "base_uri": "https://localhost:8080/"
        },
        "id": "wmc8FXXaH_5Z",
        "outputId": "65070251-bb27-41e4-9be8-8888a60b902b"
      },
      "execution_count": null,
      "outputs": [
        {
          "output_type": "stream",
          "name": "stdout",
          "text": [
            "11\n",
            "10\n"
          ]
        }
      ]
    },
    {
      "cell_type": "markdown",
      "source": [
        "# Global Vs Local Scope\n",
        "\n",
        "\n",
        "\n",
        "```\n",
        "# This is formatted as code\n",
        "  def declare_variable() -> None:\n",
        "      inside_function_only = 10\n",
        "      return\n",
        "\n",
        "declare_variable()\n",
        "print(inside_function_only) ## this will raise a NameError\n",
        "```\n",
        "\n",
        "```\n",
        "# This is formatted as code\n",
        "n = 10\n",
        "\n",
        "def define_function() -> None:\n",
        "    print(n)\n",
        "\n",
        "print(define_function) # this will print 10\n",
        "```\n",
        "\n",
        "\n",
        "\n"
      ],
      "metadata": {
        "id": "W6a2MRDvNdgM"
      }
    },
    {
      "cell_type": "code",
      "source": [
        "n = 100\n",
        "\n",
        "def print_local_variable(num: int) -> None:\n",
        "  print(num)\n",
        "\n",
        "print_local_variable(n) # print 100\n",
        "## print(num) ## not defined error\n",
        "print(n)"
      ],
      "metadata": {
        "colab": {
          "base_uri": "https://localhost:8080/"
        },
        "id": "zZyaQxkHPdMz",
        "outputId": "e8cf5a72-ea92-4d90-9e3b-5c3ec98941df"
      },
      "execution_count": null,
      "outputs": [
        {
          "output_type": "stream",
          "name": "stdout",
          "text": [
            "100\n",
            "100\n"
          ]
        }
      ]
    },
    {
      "cell_type": "markdown",
      "source": [
        "# Default Arguments\n",
        "\n",
        "\n",
        "```\n",
        "  def greet(name= \"world\"):\n",
        "      print(\"Hello, \" + name + \"!\")\n",
        "\n",
        "greet() ## print : \"Hello, world!\"\n",
        "greet(\"Bob\") ## print: \"Hello, Bob!\"\n",
        "\n",
        "```\n",
        "we have a parameter \"name\" a default value of \"world\".\n",
        "so we call function without arguments, the default value is used.\n",
        "if call th function with arguments, that arguments will be used instead.\n",
        "\n",
        "\n",
        "```\n",
        "## multiple variables\n",
        " ## this is valid\n",
        "def greet(greeting = \"Hello\", name = \"World\"):\n",
        "    print (greeting + \", \" + name + \"!\" )\n",
        "\n",
        "## this is also valid\n",
        "def greet(greeting, name = \"world!\"):\n",
        "    print(greeting + \", \" + name + \"!\")\n",
        "\n",
        "## this is NOT  Valid\n",
        "def greet(greeting= \"Hello\", name):\n",
        "    print(greeting + \", \" + name + \"!\")\n",
        "    ## here its same we are not giving an arguments\n",
        "    ## greet(,\"dgfdsaf\") ## which is wrong\n",
        "```\n",
        "\n"
      ],
      "metadata": {
        "id": "UjXOppubQGgc"
      }
    },
    {
      "cell_type": "code",
      "source": [
        "def greet(name, punctuation = \"!\") -> None:\n",
        "  print(\"Hello,\" + name + punctuation )\n",
        "\n",
        "greet(\"World\" , \"!\")\n",
        "greet(\"World\")"
      ],
      "metadata": {
        "colab": {
          "base_uri": "https://localhost:8080/"
        },
        "id": "VQFrnAzWSyAX",
        "outputId": "f86dd68b-8065-4764-bcb7-7f9c61e835e7"
      },
      "execution_count": null,
      "outputs": [
        {
          "output_type": "stream",
          "name": "stdout",
          "text": [
            "Hello,World!\n",
            "Hello,World!\n"
          ]
        }
      ]
    },
    {
      "cell_type": "markdown",
      "source": [
        "# Comparison Operators\n",
        "\n",
        "\n",
        "\n",
        "```\n",
        "x, y = 3,5\n",
        "print(x == y) ## false\n",
        "```\n",
        "\n"
      ],
      "metadata": {
        "id": "vZq7id36TiaN"
      }
    },
    {
      "cell_type": "code",
      "source": [
        "def check_equals(x, y) -> bool:\n",
        "  return x == y\n",
        "\n",
        "def check_not_equal(x,y) -> bool:\n",
        "  return x != y\n",
        "\n",
        "def check_less_than(x,y) -> bool:\n",
        "  return x < y\n",
        "\n",
        "def check_greater_than(x,y) -> bool:\n",
        "  return x > y\n",
        "\n",
        "def check_less_than_or_equal(x,y) -> bool:\n",
        "  return x <= y\n",
        "\n",
        "def check_greater_than_or_equal(x,y) -> bool:\n",
        "  return x >= y\n",
        "\n",
        "\n",
        "print(\"3 >=3 \", check_greater_than_or_equal(3,3))"
      ],
      "metadata": {
        "colab": {
          "base_uri": "https://localhost:8080/"
        },
        "id": "eB1_oZa3UTbU",
        "outputId": "43207dc5-f887-4cb5-cf15-92ebbccd39d9"
      },
      "execution_count": null,
      "outputs": [
        {
          "output_type": "stream",
          "name": "stdout",
          "text": [
            "3 >=3  True\n"
          ]
        }
      ]
    },
    {
      "cell_type": "markdown",
      "source": [
        "# If statements\n",
        "\n",
        "\n",
        "```\n",
        "account_balance = -100\n",
        "\n",
        "if(account_balance < 0):\n",
        "    print(\"Your account is overdrawn\")\n",
        "\n",
        "print(\"This is always printed\")\n",
        "\n",
        "```\n",
        "\n",
        "\n",
        "```\n",
        "def is_account_overdraw(balance: int):\n",
        "    if account_balance < 0\n",
        "        print(\"Your account is overdrawn.\")\n",
        "\n",
        "```\n",
        "\n",
        "\n"
      ],
      "metadata": {
        "id": "M4vUBHUTVt6-"
      }
    },
    {
      "cell_type": "code",
      "source": [
        "def is_balance_low(balance: int):\n",
        "  if balance <= 100:\n",
        "    print(\"Warning: Low balance.\")\n",
        "\n",
        "\n",
        "is_balance_low(90)\n",
        "is_balance_low(100)\n",
        "is_balance_low(101)"
      ],
      "metadata": {
        "colab": {
          "base_uri": "https://localhost:8080/"
        },
        "id": "QKIYUpyIWm2u",
        "outputId": "126bef12-bf11-452c-8f42-b9207f3f60b8"
      },
      "execution_count": null,
      "outputs": [
        {
          "output_type": "stream",
          "name": "stdout",
          "text": [
            "Warning: Low balance.\n",
            "Warning: Low balance.\n"
          ]
        }
      ]
    },
    {
      "cell_type": "markdown",
      "source": [
        "# if statement Scope\n",
        "\n",
        "- unlike function if statements do not create a new scope.\n",
        "- This means that variables defined inside an if statement are accessible outside of the if statement.\n",
        "- in java and c++ it's different  \n",
        "\n",
        "```\n",
        "if True:\n",
        "    msg = \"Hello:\"\n",
        "\n",
        "print(msg) ## print \"Hello\"\n",
        "```\n",
        "\n",
        "\n",
        "```\n",
        "#\n",
        "\n",
        "balance = -100\n",
        "\n",
        "if balance < 0:\n",
        "    balance = 0\n",
        "\n",
        "print(balance) ## print 0\n",
        "```\n",
        "\n",
        "\n",
        "\n",
        "```\n",
        "def is_balance_low(balance: int):\n",
        "    if balance <= 100:\n",
        "      msg = \"warning low balance\"\n",
        "    print(msg)\n",
        "\n",
        "is_balance_low(50) ## This will print \"warning low balance\"\n",
        "\n",
        "print(msg) ## cause an error\n",
        "\n",
        "```\n",
        "\n",
        "\n"
      ],
      "metadata": {
        "id": "bcbzxFPgYPZf"
      }
    },
    {
      "cell_type": "code",
      "source": [
        "def pay_bill(balance: int, bill:int) -> int:\n",
        "  new_balance = balance\n",
        "  if balance >= bill:\n",
        "    new_balance = balance - bill\n",
        "  return new_balance\n",
        "\n",
        "print(pay_bill(100,50))\n",
        "print(pay_bill(100,100))\n",
        "print(pay_bill(100,150))\n"
      ],
      "metadata": {
        "colab": {
          "base_uri": "https://localhost:8080/"
        },
        "id": "5-ijekaQaVDN",
        "outputId": "efef47af-c1f6-4ca2-cc51-6447e9429db9"
      },
      "execution_count": null,
      "outputs": [
        {
          "output_type": "stream",
          "name": "stdout",
          "text": [
            "50\n",
            "0\n",
            "100\n"
          ]
        }
      ]
    },
    {
      "cell_type": "markdown",
      "source": [
        "# if else statements\n",
        "\n",
        "\n",
        "\n",
        "```\n",
        "balance = 100\n",
        "\n",
        "if balance < 0:\n",
        "    print(\"Account is overdewn:\")\n",
        "else:\n",
        "    print(\"Accont is in good standing\")\n",
        "\n",
        "```\n",
        "\n",
        "\n",
        "\n",
        "\n",
        "```\n",
        "def get_max (a: int, b: int ) -> int:\n",
        "  if a > b:\n",
        "      return a\n",
        "  else:\n",
        "      return b\n",
        "      \n",
        "```\n",
        "\n",
        "\n",
        "\n"
      ],
      "metadata": {
        "id": "Hrd5wSQAJogk"
      }
    },
    {
      "cell_type": "code",
      "source": [
        "def get_min(a: int, b: int) -> int:\n",
        "  if  a <= b:\n",
        "    return a\n",
        "  else:\n",
        "    return b\n",
        "\n",
        "print(get_min(10,11))\n",
        "print(get_min(5,-7))\n",
        "print(get_min(20,20))"
      ],
      "metadata": {
        "colab": {
          "base_uri": "https://localhost:8080/"
        },
        "id": "1IZ8-qoKKgqB",
        "outputId": "08c123d0-931e-4793-f6f3-5d2fac378a75"
      },
      "execution_count": null,
      "outputs": [
        {
          "output_type": "stream",
          "name": "stdout",
          "text": [
            "10\n",
            "-7\n",
            "20\n"
          ]
        }
      ]
    },
    {
      "cell_type": "markdown",
      "source": [
        "# else-if statements\n",
        "\n",
        "\n",
        "\n",
        "```\n",
        "# in python use elif\n",
        " balance = 100\n",
        " balance = -10\n",
        "\n",
        " if balance < 0:\n",
        "    print(\"acount overdrawn\")\n",
        "  elif balance == 0:\n",
        "    print(\"acount is zero\")\n",
        "  elif balance < 100:\n",
        "    print(\"balance is low\")\n",
        "  else:\n",
        "     print(\"balance is healthy\") ## this will execute\n",
        "\n",
        "```\n",
        "\n"
      ],
      "metadata": {
        "id": "GfffWX2-Nr7-"
      }
    },
    {
      "cell_type": "code",
      "source": [
        "def check_range(nums: int) -> str:\n",
        "  if nums < 0:\n",
        "    return \"negative\"\n",
        "  elif nums == 0:\n",
        "    return \"zero\"\n",
        "  elif nums >= 0  and nums < 10:\n",
        "    return \"postive single digit\"\n",
        "  elif nums >= 10:\n",
        "    return \"positive multi digit\"\n",
        "\n",
        "\n",
        "print(check_range(-10))\n",
        "print(check_range(0))\n",
        "print(check_range(9))\n",
        "print(check_range(1000))"
      ],
      "metadata": {
        "colab": {
          "base_uri": "https://localhost:8080/"
        },
        "id": "NhkRckb1Oxg0",
        "outputId": "71e675e1-be55-4c20-b087-1d7968ffd3d7"
      },
      "execution_count": null,
      "outputs": [
        {
          "output_type": "stream",
          "name": "stdout",
          "text": [
            "negative\n",
            "zero\n",
            "postive single digit\n",
            "positive multi digit\n"
          ]
        }
      ]
    },
    {
      "cell_type": "markdown",
      "source": [
        "# Logic conditioning\n",
        "\n",
        "\n",
        "```\n",
        "balance = 500\n",
        "\n",
        "if balance > 0 and balance < 1000:\n",
        "    print(\"balance is b/w 0 and 1000\")\n",
        "```\n",
        "\n"
      ],
      "metadata": {
        "id": "KPh9ml1VRO7p"
      }
    },
    {
      "cell_type": "code",
      "source": [
        "def discount_applies(age: int) -> bool:\n",
        "  if age < 18 or age >= 65:\n",
        "    return True\n",
        "  return False\n",
        "\n",
        "print(discount_applies(17))\n",
        "print(discount_applies(18))\n",
        "print(discount_applies(40))\n",
        "print(discount_applies(65))\n",
        "print(discount_applies(70))"
      ],
      "metadata": {
        "colab": {
          "base_uri": "https://localhost:8080/"
        },
        "id": "VuO-MqbFRtzV",
        "outputId": "e319e2db-1a31-4d27-c0c1-77c3fdb34ae0"
      },
      "execution_count": null,
      "outputs": [
        {
          "output_type": "stream",
          "name": "stdout",
          "text": [
            "True\n",
            "False\n",
            "False\n",
            "True\n",
            "True\n"
          ]
        }
      ]
    },
    {
      "cell_type": "markdown",
      "source": [
        "# Truthy and Falsy\n",
        "- in python, it's possible to use non-boolean values to executed conditional statements\n",
        "\n",
        "\n",
        "\n",
        "```\n",
        "msg = \"\"\n",
        "if msg:\n",
        "    print(\"Msg is not empty.\") ## not going to print\n",
        "\n",
        "msg = \"Good morning!!\"\n",
        "if msg:\n",
        "    print(\"msg is not empty\") ## this will print\n",
        "\n",
        "```\n",
        "\n",
        "\n",
        "- A value is consider trythy if it evaluate to \"True\" in a boolean context\n",
        "- A value is consider false if it evaluate to \"False\" in a boolean context\n",
        "\n",
        "## flalsy\n",
        " - False (boolean)\n",
        " - None (NoneType)\n",
        " - 0 integer\n",
        " - 0.0 float\n",
        " - \"\" empty string\n",
        " - [] list\n",
        " - most other empty collections (eg, empty tuple, empty set, empty dictonary)\n",
        "\n",
        "## truty\n",
        "- True (boolean)\n",
        "- all other than 0\n",
        "\n",
        "```\n",
        "x = 10\n",
        "\n",
        "if x:\n",
        "  print(\"X is not zero\")\n",
        "\n",
        "if x! = 0:\n",
        "    print(\"x is not zero\")\n",
        "```\n",
        "\n",
        "\n"
      ],
      "metadata": {
        "id": "tTV1sysESvKz"
      }
    },
    {
      "cell_type": "code",
      "source": [
        "def is_truty(value: int) -> str:\n",
        "  if value:\n",
        "    return \"Truthy\"\n",
        "  return \"Falsy\"\n",
        "\n",
        "\n",
        "print(0 , \"is\" , is_truty(0))\n",
        "print(10 , \"is\" , is_truty(10))\n",
        "print(0.0 , \"is\" , is_truty(0.0))\n",
        "print(10.0 , \"is\" , is_truty(10.0))\n",
        "\n",
        "\n"
      ],
      "metadata": {
        "colab": {
          "base_uri": "https://localhost:8080/"
        },
        "id": "pBFekMVTXGK6",
        "outputId": "4ae14821-808e-4ac5-85a4-26fcafc80f2a"
      },
      "execution_count": null,
      "outputs": [
        {
          "output_type": "stream",
          "name": "stdout",
          "text": [
            "0 is Falsy\n",
            "10 is Truthy\n",
            "0.0 is Falsy\n",
            "10.0 is Truthy\n"
          ]
        }
      ]
    },
    {
      "cell_type": "markdown",
      "source": [
        "# While Loop\n",
        "\n",
        "\n",
        "```\n",
        "i = 0\n",
        "\n",
        "while i < 5:\n",
        "    print(\"Python rox🫡\")\n",
        "     i += 1\n",
        "```\n",
        "\n"
      ],
      "metadata": {
        "id": "fZF-hKO8YIqY"
      }
    },
    {
      "cell_type": "code",
      "source": [
        "# i = 0\n",
        "# while i< 12:\n",
        "#   print(\"IKNOW HOW TO USE THE LOOPS\")\n",
        "#   i += 1\n",
        "\n",
        "i = 1\n",
        "while i < 13:\n",
        "  print(\"IKNOW HOW TO USE THE LOOPS\")\n",
        "  i += 1"
      ],
      "metadata": {
        "colab": {
          "base_uri": "https://localhost:8080/"
        },
        "id": "8IPIrfyNXl-C",
        "outputId": "4dad1f98-3187-4eea-aa74-9b0b3098f2c2"
      },
      "execution_count": null,
      "outputs": [
        {
          "output_type": "stream",
          "name": "stdout",
          "text": [
            "IKNOW HOW TO USE THE LOOPS\n",
            "IKNOW HOW TO USE THE LOOPS\n",
            "IKNOW HOW TO USE THE LOOPS\n",
            "IKNOW HOW TO USE THE LOOPS\n",
            "IKNOW HOW TO USE THE LOOPS\n",
            "IKNOW HOW TO USE THE LOOPS\n",
            "IKNOW HOW TO USE THE LOOPS\n",
            "IKNOW HOW TO USE THE LOOPS\n",
            "IKNOW HOW TO USE THE LOOPS\n",
            "IKNOW HOW TO USE THE LOOPS\n",
            "IKNOW HOW TO USE THE LOOPS\n",
            "IKNOW HOW TO USE THE LOOPS\n"
          ]
        }
      ]
    },
    {
      "cell_type": "markdown",
      "source": [
        "# while loops counting\n"
      ],
      "metadata": {
        "id": "DNNwBXyRZ5in"
      }
    },
    {
      "cell_type": "code",
      "source": [
        "# n = 0\n",
        "\n",
        "# while n <= 9:\n",
        "#   print(n)\n",
        "#   n += 1\n",
        "\n",
        "n = 0\n",
        "while n < 10:\n",
        "  print(n)\n",
        "  n += 1"
      ],
      "metadata": {
        "colab": {
          "base_uri": "https://localhost:8080/"
        },
        "id": "fP0LaF0zaJ_1",
        "outputId": "5f99ec61-3e4b-4e98-c8b4-871826419719"
      },
      "execution_count": null,
      "outputs": [
        {
          "output_type": "stream",
          "name": "stdout",
          "text": [
            "0\n",
            "1\n",
            "2\n",
            "3\n",
            "4\n",
            "5\n",
            "6\n",
            "7\n",
            "8\n",
            "9\n"
          ]
        }
      ]
    },
    {
      "cell_type": "markdown",
      "source": [
        "# While loop multiples"
      ],
      "metadata": {
        "id": "KOLezgWral0X"
      }
    },
    {
      "cell_type": "code",
      "source": [
        "n = 10\n",
        "while n <= 90:\n",
        "  print(n)\n",
        "  n += 10"
      ],
      "metadata": {
        "colab": {
          "base_uri": "https://localhost:8080/"
        },
        "id": "WRito-NraqB5",
        "outputId": "bcb36b30-e553-4029-a932-ebd87e7bc998"
      },
      "execution_count": null,
      "outputs": [
        {
          "output_type": "stream",
          "name": "stdout",
          "text": [
            "10\n",
            "20\n",
            "30\n",
            "40\n",
            "50\n",
            "60\n",
            "70\n",
            "80\n",
            "90\n"
          ]
        }
      ]
    },
    {
      "cell_type": "markdown",
      "source": [
        "# for loops\n",
        "\n",
        "\n",
        "```\n",
        "for i in range(10) ## not including 10.\n",
        "     print(i)\n",
        "\n",
        "```\n",
        "\n"
      ],
      "metadata": {
        "id": "YZsFUtkZbljf"
      }
    },
    {
      "cell_type": "code",
      "source": [
        "for i in range(13):\n",
        "  print(i)"
      ],
      "metadata": {
        "colab": {
          "base_uri": "https://localhost:8080/"
        },
        "id": "HiNTTRJqcbS_",
        "outputId": "19e04fa8-2f1f-4e91-95b8-ec412f605abe"
      },
      "execution_count": null,
      "outputs": [
        {
          "output_type": "stream",
          "name": "stdout",
          "text": [
            "0\n",
            "1\n",
            "2\n",
            "3\n",
            "4\n",
            "5\n",
            "6\n",
            "7\n",
            "8\n",
            "9\n",
            "10\n",
            "11\n",
            "12\n"
          ]
        }
      ]
    },
    {
      "cell_type": "markdown",
      "source": [
        "# for loop start\n",
        "\n",
        "\n",
        "```\n",
        "for i in range(2,5):\n",
        "    print(i)\n",
        "```\n",
        "\n"
      ],
      "metadata": {
        "id": "ab8Lzq81cpAH"
      }
    },
    {
      "cell_type": "code",
      "source": [
        "for i in range(10, 21):\n",
        "  print(i)"
      ],
      "metadata": {
        "colab": {
          "base_uri": "https://localhost:8080/"
        },
        "id": "EX21umKCc0hi",
        "outputId": "ba037527-54c0-4c18-9c36-912ba3043661"
      },
      "execution_count": null,
      "outputs": [
        {
          "output_type": "stream",
          "name": "stdout",
          "text": [
            "10\n",
            "11\n",
            "12\n",
            "13\n",
            "14\n",
            "15\n",
            "16\n",
            "17\n",
            "18\n",
            "19\n",
            "20\n"
          ]
        }
      ]
    },
    {
      "cell_type": "markdown",
      "source": [
        "# for loop steps\n",
        "\n",
        "```\n",
        "for i in range(0,10, 2):\n",
        "    print(i)\n",
        "```"
      ],
      "metadata": {
        "id": "alZ7_jspdKzo"
      }
    },
    {
      "cell_type": "code",
      "source": [
        "for i in range(10, 101, 10):\n",
        "  print(i)"
      ],
      "metadata": {
        "colab": {
          "base_uri": "https://localhost:8080/"
        },
        "id": "gQgMlT_edckZ",
        "outputId": "8c877e93-6745-41ce-f4bd-c2d77668813e"
      },
      "execution_count": null,
      "outputs": [
        {
          "output_type": "stream",
          "name": "stdout",
          "text": [
            "10\n",
            "20\n",
            "30\n",
            "40\n",
            "50\n",
            "60\n",
            "70\n",
            "80\n",
            "90\n",
            "100\n"
          ]
        }
      ]
    },
    {
      "cell_type": "markdown",
      "source": [
        "# for loop reverse\n",
        "\n",
        "```\n",
        "i = 10\n",
        "\n",
        "while i> 0:\n",
        "    print(i)\n",
        "    i -= 1\n",
        "\n",
        "\n",
        "for i in range(10, 0, -1)\n",
        "  print(i)\n",
        "```"
      ],
      "metadata": {
        "id": "rM8sHOFCdwEp"
      }
    },
    {
      "cell_type": "code",
      "source": [
        "# for i in range(20, 9, -1):\n",
        "#   print(i)\n",
        "\n",
        "for i in reversed(range(10,21)):\n",
        "  print(i)"
      ],
      "metadata": {
        "colab": {
          "base_uri": "https://localhost:8080/"
        },
        "id": "FPSVtnL-d_vA",
        "outputId": "e1ac2b05-9cb8-469a-a2ea-64185b6169a1"
      },
      "execution_count": null,
      "outputs": [
        {
          "output_type": "stream",
          "name": "stdout",
          "text": [
            "20\n",
            "19\n",
            "18\n",
            "17\n",
            "16\n",
            "15\n",
            "14\n",
            "13\n",
            "12\n",
            "11\n",
            "10\n"
          ]
        }
      ]
    },
    {
      "cell_type": "markdown",
      "source": [
        "# nested loop\n",
        "```\n",
        "for i in range(1, 4):\n",
        "   for j in range(1,4):\n",
        "      print(i,j)\n",
        "      \n",
        "```"
      ],
      "metadata": {
        "id": "QJb5DHgOfF56"
      }
    },
    {
      "cell_type": "code",
      "source": [
        "for i in range(3, 6):\n",
        "  for j in range(3, 6):\n",
        "    print(i,j)"
      ],
      "metadata": {
        "colab": {
          "base_uri": "https://localhost:8080/"
        },
        "id": "Bv3jpIrUf5PU",
        "outputId": "78a7f1e4-614e-43b8-8013-77f3d30bbd6c"
      },
      "execution_count": null,
      "outputs": [
        {
          "output_type": "stream",
          "name": "stdout",
          "text": [
            "3 3\n",
            "3 4\n",
            "3 5\n",
            "4 3\n",
            "4 4\n",
            "4 5\n",
            "5 3\n",
            "5 4\n",
            "5 5\n"
          ]
        }
      ]
    },
    {
      "cell_type": "markdown",
      "source": [
        "# Control Flow\n",
        "- Python provides control statements to alter the execution of loops\n",
        "\n",
        " ### keyword\n",
        " - break - exits the loop immediately\n",
        " - continue - skips the remining\n",
        " - pass -- act as a placeholder and does nothing. we cannot have empty loop so we use pass to avoid errors.\n",
        "\n",
        "```\n",
        " for i in range(1,8):\n",
        "      pass\n",
        " if True:\n",
        "    pass\n",
        "  \n",
        "  def unfinised_function():\n",
        "      pass\n",
        "```\n",
        "\n",
        "\n",
        "\n",
        "```\n",
        "for i in range(1,8):\n",
        "  if i == 3:\n",
        "        continue:\n",
        "  else i == 6:\n",
        "      break\n",
        "   print(i)\n",
        "\n",
        "```\n"
      ],
      "metadata": {
        "id": "_8I3vbYObhWk"
      }
    },
    {
      "cell_type": "code",
      "source": [
        "for i in range(1,8):\n",
        "  pass\n",
        "\n",
        "if True:\n",
        "  pass\n",
        "\n",
        "def unfinished_function():\n",
        "  pass\n",
        "\n",
        "for i in range(1,8):\n",
        "  break\n",
        "  print(i)\n",
        "\n",
        "for i in range(1,8):\n",
        "  continue\n",
        "  print(i)\n",
        "\n",
        "  print(\"nothig else happened\")"
      ],
      "metadata": {
        "id": "rPUmv3e8dMr5"
      },
      "execution_count": null,
      "outputs": []
    },
    {
      "cell_type": "markdown",
      "source": [
        "# Length Function\n",
        "\n",
        "\n",
        "```\n",
        "my_str = \"NeetCode\"\n",
        "print(len(my_str))\n",
        "```\n",
        "\n"
      ],
      "metadata": {
        "id": "Dn75MUwNdtlu"
      }
    },
    {
      "cell_type": "code",
      "source": [
        "def get_longer_word(word1: str, word2: str) -> str:\n",
        "  if len(word1) > len(word2):\n",
        "    return word1\n",
        "  return word2\n",
        "\n",
        "\n",
        "print(get_longer_word(\"yellow\",\"orange\"))\n",
        "print(get_longer_word(\"red\",\"blue\"))\n",
        "print(get_longer_word(\"green\",\"blue\"))"
      ],
      "metadata": {
        "colab": {
          "base_uri": "https://localhost:8080/"
        },
        "id": "jH79NhRCe4Es",
        "outputId": "9a7d2a8d-85fd-4e26-de10-957f67ea345d"
      },
      "execution_count": null,
      "outputs": [
        {
          "output_type": "stream",
          "name": "stdout",
          "text": [
            "orange\n",
            "blue\n",
            "green\n"
          ]
        }
      ]
    },
    {
      "cell_type": "markdown",
      "source": [
        "# String indexing\n",
        "\n",
        "```\n",
        "my_str = \"hello\"\n",
        "print(my_str[0])\n",
        "```\n",
        "\n"
      ],
      "metadata": {
        "id": "RTKjI7shflZl"
      }
    },
    {
      "cell_type": "code",
      "source": [
        "def print_first_char(word1: str) -> None:\n",
        "  print(word1[0])\n",
        "\n",
        "def second_first_char(word1: str) -> None:\n",
        "  print(word1[1])\n",
        "\n",
        "def third_first_char(word1: str) -> None:\n",
        "  last_index = len(word1) - 1\n",
        "  print(word1[last_index])\n",
        "\n",
        "print_first_char(\"hello\")\n",
        "second_first_char(\"world\")\n",
        "third_first_char(\"yay\")\n",
        "\n",
        "print_first_char(\"my\")"
      ],
      "metadata": {
        "colab": {
          "base_uri": "https://localhost:8080/"
        },
        "id": "DHcKnvjbfrl8",
        "outputId": "090671a9-a8b5-4ba6-95c4-cc2ce02f80e5"
      },
      "execution_count": null,
      "outputs": [
        {
          "output_type": "stream",
          "name": "stdout",
          "text": [
            "h\n",
            "o\n",
            "y\n",
            "m\n"
          ]
        }
      ]
    },
    {
      "cell_type": "markdown",
      "source": [
        "# String Looping\n",
        "\n",
        "access each character in a string saperately\n",
        "\n",
        "\n",
        "```\n",
        "my_STring = \"Hello, World! \"\n",
        "length = len(my_sTring) #13\n",
        "\n",
        "for i in range(len(length))\n",
        "    print(my_sTring[i])\n",
        "\n",
        "```\n",
        "\n",
        "here we can use the index i to access and print each character of the string\n"
      ],
      "metadata": {
        "id": "cR0bERWdifF-"
      }
    },
    {
      "cell_type": "code",
      "source": [
        "def print_string_characters(my_string: str) -> None:\n",
        "  for i in range(len(my_string)):\n",
        "    print(my_string[i])\n",
        "\n",
        "print_string_characters(\"Hello, World!\")\n",
        "print_string_characters(\"Good Job!\")"
      ],
      "metadata": {
        "colab": {
          "base_uri": "https://localhost:8080/"
        },
        "id": "naDKqYJFjWmm",
        "outputId": "d9117b39-b4a1-4edc-d995-2f384deb52f9"
      },
      "execution_count": null,
      "outputs": [
        {
          "output_type": "stream",
          "name": "stdout",
          "text": [
            "H\n",
            "e\n",
            "l\n",
            "l\n",
            "o\n",
            ",\n",
            " \n",
            "W\n",
            "o\n",
            "r\n",
            "l\n",
            "d\n",
            "!\n",
            "G\n",
            "o\n",
            "o\n",
            "d\n",
            " \n",
            "J\n",
            "o\n",
            "b\n",
            "!\n"
          ]
        }
      ]
    },
    {
      "cell_type": "markdown",
      "source": [
        "# String looping shorthand\n",
        "\n",
        "\n",
        "```\n",
        "my_string = \"Hello\"\n",
        "\n",
        "for i in range(len(my_string)):\n",
        "    print(i, my_string)\n",
        "```\n",
        "output:\n",
        "\n",
        "0 H\n",
        "1 e\n",
        "2 l\n",
        "3 l\n",
        "4 o\n",
        "\n",
        "\n",
        "\n",
        "```\n",
        "for char in my_string:\n",
        "    print(char)\n",
        "my_string = \"hello\"\n",
        "\n",
        "```\n",
        "output\n",
        "h e l l o\n"
      ],
      "metadata": {
        "id": "oE1hWVaWlCDR"
      }
    },
    {
      "cell_type": "code",
      "source": [
        "def print_string_characters(word1: str, word2: str) -> None:\n",
        "  for c in word1:\n",
        "    print(c)\n",
        "  for c in word2:\n",
        "    print(c)\n",
        "\n",
        "print_string_characters(\"Hello World\", \"Good_by\")"
      ],
      "metadata": {
        "colab": {
          "base_uri": "https://localhost:8080/"
        },
        "id": "c-_pWdFfkSBL",
        "outputId": "c145576e-009e-4f98-8223-0e78335295a2"
      },
      "execution_count": null,
      "outputs": [
        {
          "output_type": "stream",
          "name": "stdout",
          "text": [
            "H\n",
            "e\n",
            "l\n",
            "l\n",
            "o\n",
            " \n",
            "W\n",
            "o\n",
            "r\n",
            "l\n",
            "d\n",
            "G\n",
            "o\n",
            "o\n",
            "d\n",
            "_\n",
            "b\n",
            "y\n"
          ]
        }
      ]
    },
    {
      "cell_type": "markdown",
      "source": [
        "# String Concatenation\n",
        "\n"
      ],
      "metadata": {
        "id": "zgyPcnnimdQu"
      }
    },
    {
      "cell_type": "code",
      "source": [
        "def concatenate(s1: str, s2: str) -> str:\n",
        "  s3 = s1 + s2\n",
        "  if len(s3) > 10:\n",
        "    return \"To Long! to print bro\"\n",
        "  return s3\n",
        "\n",
        "print(concatenate(\"He\", \"llo\"))\n",
        "print(concatenate(\"Hello \", \"world!\"))\n",
        "print(concatenate(\"Length\", \"of10\"))"
      ],
      "metadata": {
        "colab": {
          "base_uri": "https://localhost:8080/"
        },
        "id": "kqqzArSLm1XM",
        "outputId": "f8bba7ef-58c4-4604-b639-127909b9ea4c"
      },
      "execution_count": null,
      "outputs": [
        {
          "output_type": "stream",
          "name": "stdout",
          "text": [
            "Hello\n",
            "To Long! to print bro\n",
            "Lengthof10\n"
          ]
        }
      ]
    },
    {
      "cell_type": "markdown",
      "source": [
        "## String Slicing (Part 1)\n",
        "\n",
        "```\n",
        "my_string = \"Hello, World!\"\n",
        "\n",
        "start,end = 1,5\n",
        "\n",
        "print(my_string[start:end]) ## output:- ello\n",
        "```\n",
        "\n",
        "\n"
      ],
      "metadata": {
        "id": "_FscZAeZeifC"
      }
    },
    {
      "cell_type": "code",
      "source": [
        "def get_substring(input_string: str, start:int, end: int) -> str:\n",
        "  if end > len(input_string):\n",
        "    return \"\" ## out of bound index / invalid index\n",
        "  return input_string[start:end] ## return the start and end index\n",
        "\n",
        "print(get_substring(\"Anurag Sharma\", 1, 5))\n",
        "print(get_substring(\"Anurag Sharma\", 4, 65))\n",
        "print(get_substring(\"Anurag Sharma\", 5, 9))\n",
        "print(get_substring(\"Anurag Sharma\", 0, 8))\n",
        "print(get_substring(\"Anurag Sharma\", 6, 8))"
      ],
      "metadata": {
        "colab": {
          "base_uri": "https://localhost:8080/"
        },
        "id": "AWk0KLaMffNK",
        "outputId": "cdfdbee0-9d0a-44ba-e734-8f566e86632f"
      },
      "execution_count": null,
      "outputs": [
        {
          "output_type": "stream",
          "name": "stdout",
          "text": [
            "nura\n",
            "\n",
            "g Sh\n",
            "Anurag S\n",
            " S\n"
          ]
        }
      ]
    },
    {
      "cell_type": "markdown",
      "source": [
        "## String Slicing 2\n",
        "```\n",
        "my_string = \"NeetCode\"\n",
        "print(my_string[:3]) ## Nee\n",
        "print(my_string[4:]) ## Code\n",
        "print(my_string[4:8]) ## Code\n",
        "print(my_string[:]) ## NeetCode\n",
        "\n",
        "```\n"
      ],
      "metadata": {
        "id": "BeBtQOVH06pu"
      }
    },
    {
      "cell_type": "code",
      "source": [
        "def first_n_characters(s: str, n: int) -> str:\n",
        "  return s[:n]\n",
        "\n",
        "def last_n_characters(s: str, n: int) -> str:\n",
        "  index = len(s) - n\n",
        "  return s[n:]\n",
        "\n",
        "print(first_n_characters(\"NeetCode\" , 3))\n",
        "print(first_n_characters(\"NeetCode\" , 1))\n",
        "print(first_n_characters(\"NeetCode\" , 2))\n",
        "print(first_n_characters(\"NeetCode\" , 8))\n",
        "print(first_n_characters(\"NeetCode\" , 7))\n",
        "print(first_n_characters(\"NeetCode\" , 6))\n",
        "print(first_n_characters(\"NeetCode\" , 5))\n",
        "\n"
      ],
      "metadata": {
        "colab": {
          "base_uri": "https://localhost:8080/"
        },
        "id": "c4w-DoxZ2uph",
        "outputId": "c89a5484-29b3-462f-f30b-0ab36e2a3733"
      },
      "execution_count": null,
      "outputs": [
        {
          "output_type": "stream",
          "name": "stdout",
          "text": [
            "Nee\n",
            "N\n",
            "Ne\n",
            "NeetCode\n",
            "NeetCod\n",
            "NeetCo\n",
            "NeetC\n"
          ]
        }
      ]
    },
    {
      "cell_type": "markdown",
      "source": [
        "# reverse a string\n",
        "```\n",
        "my_string = \"Hello\"\n",
        "#print(my_string[::-1])  ## olleH  \n",
        "\n",
        "start, end, step = 4, 1, 1\n",
        "\n",
        "#print(my_string[start:end]) ## ell\n",
        "\n",
        "print(my_string[1:4:-1]) ## this will return an empty string\n",
        "```"
      ],
      "metadata": {
        "id": "ENTc8BvU5len"
      }
    },
    {
      "cell_type": "code",
      "source": [
        "def reverse_string(input_string: str) -> str:\n",
        "  return input_string[::-1]\n",
        "\n",
        "print(reverse_string(\"NEETCODE\"))\n",
        "print(reverse_string(\"NECOD\"))\n",
        "print(reverse_string(\"NEODE\"))"
      ],
      "metadata": {
        "colab": {
          "base_uri": "https://localhost:8080/"
        },
        "id": "zXp2VjQW6rZq",
        "outputId": "baf09669-bc12-4da6-b777-16bd298c8620"
      },
      "execution_count": null,
      "outputs": [
        {
          "output_type": "stream",
          "name": "stdout",
          "text": [
            "EDOCTEEN\n",
            "DOCEN\n",
            "EDOEN\n"
          ]
        }
      ]
    },
    {
      "cell_type": "markdown",
      "source": [
        "## String are immutable\n",
        "\n",
        "```\n",
        "msg = \"I will never change.\"\n",
        "msg[0] = \"X\" ## TypeError: 'str' object does not support item assignment\n",
        "\n",
        "```\n",
        "\n",
        "```\n",
        "\n",
        "msg = \"I will never change.\"\n",
        "\n",
        "before_second = msg[:1]\n",
        "print(before_second)\n",
        "after_second = msg[2:]\n",
        "print(after_second)\n",
        "\n",
        "new_message = before_second + after_second\n",
        "print(new_message) ## we have the character which a space \" \" and concatinated```\n",
        "\n"
      ],
      "metadata": {
        "id": "1ljsAkXx8mXV"
      }
    },
    {
      "cell_type": "code",
      "source": [
        "from os import remove\n",
        "# def remove_fourth_character(word: str) -> str:\n",
        "#     remove_character = word[:4]\n",
        "#     starting_index = word[5:]\n",
        "#     return remove_character + starting_index\n",
        "\n",
        "# print(remove_fourth_character(\"Neetcode\"))\n",
        "\n",
        "\n",
        "def remove_fourth_character(word: str) -> str:\n",
        "  if len(word) < 4:\n",
        "    return word\n",
        "  return word[:3] + word[4:]  ## here we remove the 3rd character\n",
        "\n",
        "print(remove_fourth_character(\"Neetcode\"))\n",
        "print(remove_fourth_character(\"Hello\"))\n",
        "print(remove_fourth_character(\"Anurag\"))"
      ],
      "metadata": {
        "colab": {
          "base_uri": "https://localhost:8080/"
        },
        "id": "kV0AUBDx9DsK",
        "outputId": "20d5315a-eae0-49c8-d98b-e96eef8642c8"
      },
      "execution_count": null,
      "outputs": [
        {
          "output_type": "stream",
          "name": "stdout",
          "text": [
            "Neecode\n",
            "Helo\n",
            "Anuag\n"
          ]
        }
      ]
    },
    {
      "cell_type": "markdown",
      "source": [
        "# String Formating\n",
        "\n",
        "formate method\n",
        "\n",
        "```\n",
        "name = \"Alice\"\n",
        "age = 25\n",
        "\n",
        "# {} is a placeholder. we than call the \"format\" method . The number of placeholders must match the number of arguments passed to the format method\n",
        "msg = \"Hello {}. You are {} years old.\".format(name,age)\n",
        "print(msg)\n",
        "\n",
        "```\n",
        "\n",
        "```\n",
        "name = \"Alice\"\n",
        "age = 25\n",
        "\n",
        "# {} is a placeholder. we than call the \"format\" method . The number of placeholders must match the number of arguments passed to the format method\n",
        "msg = \"Hello {0}. You are {1} years old.\".format(name,age)\n",
        "print(msg) ## Hello Alice. You are 25 years old.\n",
        "```\n",
        "\n",
        "```\n",
        "name = \"Alice\"\n",
        "age = 23\n",
        "\n",
        "## concise way to format strings is to use f-strings\n",
        "msg = f\"Hello, {name}!! You are {age} years old.\"\n",
        "print(msg)\n",
        "```"
      ],
      "metadata": {
        "id": "70ZzBCWfBXYE"
      }
    },
    {
      "cell_type": "code",
      "source": [
        "def say_goodbye(name: str, hour: int) -> str:\n",
        "  return f\"Goodbye, {name}. See you again at {hour} o'clock.\"\n",
        "\n",
        "print(say_goodbye(\"bod\", 242))\n",
        "print(say_goodbye(\"alice\", 33))\n",
        "print(say_goodbye(\"helly\", 22))\n"
      ],
      "metadata": {
        "colab": {
          "base_uri": "https://localhost:8080/"
        },
        "id": "oFenB9LNBpb4",
        "outputId": "e390551c-0ec9-42ad-c84c-9abfd7a779c4"
      },
      "execution_count": null,
      "outputs": [
        {
          "output_type": "stream",
          "name": "stdout",
          "text": [
            "Goodbye, bod. See you again at 242 o'clock.\n",
            "Goodbye, alice. See you again at 33 o'clock.\n",
            "Goodbye, helly. See you again at 22 o'clock.\n"
          ]
        }
      ]
    },
    {
      "cell_type": "markdown",
      "source": [
        "## Intro To LISTS\n",
        "\n",
        "in python list is the collection of items that are stored in a specific order.\n",
        "\n",
        "List are immutable other than the string they can also stored strings\n",
        "\n",
        "```\n",
        "my_list = [1,2,3]\n",
        "\n",
        "print(my_list[0])\n",
        "print(my_list[2])\n",
        "print(my_list[1])\n",
        "\n",
        "```\n",
        "\n",
        "```\n",
        "## mix and match type\n",
        "my_list = [1, \"Hello\", 3.24, True]\n",
        "print(my_list)\n",
        "\n",
        "```"
      ],
      "metadata": {
        "id": "Bc7_0sT_FN56"
      }
    },
    {
      "cell_type": "code",
      "source": [
        "my_list = [1,4,5,7,8,7,4]\n",
        "\n",
        "print(my_list[3])"
      ],
      "metadata": {
        "colab": {
          "base_uri": "https://localhost:8080/"
        },
        "id": "erSYZlXkFeON",
        "outputId": "b2ee1977-8511-48ed-a28c-845bf4325da5"
      },
      "execution_count": null,
      "outputs": [
        {
          "output_type": "stream",
          "name": "stdout",
          "text": [
            "7\n"
          ]
        }
      ]
    },
    {
      "cell_type": "markdown",
      "source": [
        "# List operations\n",
        "\n",
        "```\n",
        "mylist = [1, 3, 5]\n",
        "\n",
        "if len(mylist) > 0:\n",
        "  print(\"list is not empty\")\n",
        "else:\n",
        "  print(\"list is empty please insert something\")\n",
        "\n",
        "\n",
        "## both code are equivalent\n",
        "\n",
        "if mylist:\n",
        "  print(\"list is not empty\")\n",
        "else:\n",
        "  print(\"list is empty please insert something\")\n",
        "\n",
        "\n",
        "if 2 in mylist:\n",
        "  print(\"2 isn in a list\")\n",
        "\n",
        "if 4 not in mylist:\n",
        "  print(\"4 is not in the list\")\n",
        "  "
      ],
      "metadata": {
        "id": "HPDpgvoGHQcj"
      }
    },
    {
      "cell_type": "code",
      "source": [
        "my_list = [1,3,64,66,4,2\n",
        "          ]\n",
        "\n",
        "def check_list_empty(my_list) -> bool:\n",
        "  # if len(my_list) > 0:\n",
        "  #   return True\n",
        "  # else: return False\n",
        "   return len(my_list) > 0\n",
        "\n",
        "def check_element_in_list(my_list, element) -> bool:\n",
        "  # if element in my_list:\n",
        "  #   return True\n",
        "  # return False\n",
        "   return element in my_list\n",
        "\n",
        "print(check_list_empty([]))\n",
        "print(check_element_in_list([1,3], 3))\n",
        "\n",
        "\n",
        "print(check_list_empty([1]))\n",
        "print(check_element_in_list([1,3],1))\n",
        "\n",
        "\n",
        "print(check_list_empty([]))\n",
        "print(check_element_in_list([1,3], 4))"
      ],
      "metadata": {
        "colab": {
          "base_uri": "https://localhost:8080/"
        },
        "id": "G0pFoT-GHZPc",
        "outputId": "69e9009a-2b2b-4555-ab99-e5586403ede5"
      },
      "execution_count": null,
      "outputs": [
        {
          "output_type": "stream",
          "name": "stdout",
          "text": [
            "False\n",
            "True\n",
            "True\n",
            "True\n",
            "False\n",
            "False\n"
          ]
        }
      ]
    },
    {
      "cell_type": "markdown",
      "source": [
        "# List looping\n",
        "\n",
        "```\n",
        "# This is formatted as code\n",
        "\n",
        "\n",
        "mylist = [2,4,5,6,7]\n",
        "\n",
        "length = len(mylist)\n",
        "\n",
        "for i in range(length):\n",
        "  print(mylist[i])\n",
        "\n",
        "for i in range(1, length + 1): ## reverse the list\n",
        "  print(mylist[-i])\n",
        "\n",
        "\n",
        "## or we can use\n",
        "for element in mylist:\n",
        "  print(element)\n",
        "\n",
        "```\n",
        "\n"
      ],
      "metadata": {
        "id": "gAySy1tcKMiz"
      }
    },
    {
      "cell_type": "code",
      "source": [
        "from typing import List\n",
        "\n",
        "def count_x(nums: List[int], x: int) -> int:\n",
        "  res = 0\n",
        "  for n in nums:\n",
        "    if n == x:\n",
        "      res += 1\n",
        "  return res\n",
        "\n",
        "print(count_x([1,2,5,6,5], 5))"
      ],
      "metadata": {
        "colab": {
          "base_uri": "https://localhost:8080/"
        },
        "id": "pTll2g2gKevk",
        "outputId": "05dac76c-5873-489d-9db5-c7547dfb3b08"
      },
      "execution_count": null,
      "outputs": [
        {
          "output_type": "stream",
          "name": "stdout",
          "text": [
            "2\n"
          ]
        }
      ]
    },
    {
      "cell_type": "markdown",
      "source": [
        "# list functions\n",
        "\n",
        "```\n",
        "mylist= [1,2,4,3,5]\n",
        "\n",
        "print(min(mylist))\n",
        "print(max(mylist))\n",
        "print(sum(mylist))\n",
        "```"
      ],
      "metadata": {
        "id": "UnHSeGgcODNF"
      }
    },
    {
      "cell_type": "code",
      "source": [
        "from typing import List\n",
        "\n",
        "def get_sum(nums:List[int]) -> int:\n",
        "  totalSum = 0\n",
        "  for n in nums:\n",
        "    totalSum =  n + totalSum\n",
        "  return totalSum\n",
        "\n",
        "\n",
        "def get_min(nums:List[int]) -> int:\n",
        "  curr_min = nums[0]\n",
        "  for n in nums:\n",
        "    if n < curr_min:\n",
        "      curr_min = n\n",
        "  return curr_min\n",
        "\n",
        "\n",
        "def get_max(nums:List[int]) -> int:\n",
        "  curr_max = nums[0]\n",
        "  for n in nums:\n",
        "    if n > curr_max:\n",
        "      curr_max = n\n",
        "  return curr_max\n",
        "\n",
        "print(get_sum([1,4,5,6,7]))\n",
        "print(get_min([1,4,5,6,7]))\n",
        "print(get_max([1,4,5,6,7]))"
      ],
      "metadata": {
        "colab": {
          "base_uri": "https://localhost:8080/"
        },
        "id": "M1lX6XCvOHFn",
        "outputId": "aadde384-2ad5-4f0d-9b40-1bf47ac87553"
      },
      "execution_count": null,
      "outputs": [
        {
          "output_type": "stream",
          "name": "stdout",
          "text": [
            "23\n",
            "1\n",
            "7\n"
          ]
        }
      ]
    },
    {
      "cell_type": "markdown",
      "source": [
        "# List Append\n",
        "\n",
        "\n",
        "```\n",
        "## we use a **method**\n",
        "## list and string are consider as an object in python\n",
        "\n",
        "mylist = [1,2,3]\n",
        "\n",
        "mylist.append(4)\n",
        "\n",
        "print(mylist)\n",
        "\n",
        "```"
      ],
      "metadata": {
        "id": "QiKpnsqnRFHf"
      }
    },
    {
      "cell_type": "code",
      "source": [
        "from typing import List\n",
        "\n",
        "def append_to_list(mylist: List[int], elements: List[int]) -> List[int]:\n",
        "\n",
        "  for n in elements:\n",
        "    mylist.append(n)\n",
        "  return mylist\n",
        "\n",
        "print(append_to_list([1,2,3], [4,5]))"
      ],
      "metadata": {
        "colab": {
          "base_uri": "https://localhost:8080/"
        },
        "id": "m9euG6BJRqza",
        "outputId": "085d57dc-f40a-4314-93c2-632158bd24a9"
      },
      "execution_count": null,
      "outputs": [
        {
          "output_type": "stream",
          "name": "stdout",
          "text": [
            "[1, 2, 3, 4, 5]\n"
          ]
        }
      ]
    },
    {
      "cell_type": "markdown",
      "source": [
        "# List POP\n",
        "\n",
        "\n",
        "  ```\n",
        "   mylist = [1,3,4]\n",
        "   mylist.pop(2)\n",
        "   print(mylist)\n",
        "  ```"
      ],
      "metadata": {
        "id": "uLEooPS0S_mj"
      }
    },
    {
      "cell_type": "code",
      "source": [
        "from typing import List\n",
        "\n",
        "def remove_from_list(mylist: List[int], index: int) -> List[int]:\n",
        "  mylist.pop(index)\n",
        "  return mylist\n",
        "\n",
        "def pop_n_from_list(mylist: List[int], n: int) -> List[int]:\n",
        "  while n > 0:\n",
        "    mylist.pop()\n",
        "    n -= 1\n",
        "  return mylist\n",
        "\n",
        "print(remove_from_list([1,2,3,4,5], 2))\n",
        "print(pop_n_from_list([1,2,3,4,5], 2))\n"
      ],
      "metadata": {
        "colab": {
          "base_uri": "https://localhost:8080/"
        },
        "id": "4xYbx4xQTNRc",
        "outputId": "767cb6e3-40e3-4b15-bcd4-f6baffd1c83a"
      },
      "execution_count": null,
      "outputs": [
        {
          "output_type": "stream",
          "name": "stdout",
          "text": [
            "[1, 2, 4, 5]\n",
            "[1, 2, 3]\n"
          ]
        }
      ]
    },
    {
      "cell_type": "code",
      "source": [
        "## find elements in a list\n",
        "\n",
        "# mylist = [1,2,3,4,5, 4,4,4,3.3]\n",
        "# print(mylist.index(3)) ## build in function\n",
        "\n",
        "\n",
        "from typing import List\n",
        "##  finding first occurence without using the index() function\n",
        "def find_index(nums: List[int], target: int) -> int:\n",
        "  for i in range(len(nums)):\n",
        "    n = nums[i]\n",
        "    if n == target:\n",
        "      return i\n",
        "\n",
        "print(find_index([1,2,3,4,5,6],3))\n"
      ],
      "metadata": {
        "colab": {
          "base_uri": "https://localhost:8080/"
        },
        "id": "dNfM5ki0fFL2",
        "outputId": "e866c961-bdee-453e-f306-e78b3f23bb46"
      },
      "execution_count": null,
      "outputs": [
        {
          "output_type": "stream",
          "name": "stdout",
          "text": [
            "2\n"
          ]
        }
      ]
    },
    {
      "cell_type": "code",
      "source": [
        "## list Slicing which is same as the string\n",
        "\n",
        "# mylist = [1,2.4,.4, 5]\n",
        "# print(mylist[1:3])\n",
        "# print(mylist[len(mylist) - 1])\n",
        "# print(mylist[len(mylist) - 2])\n",
        "# print(mylist[len(mylist) - 3])\n",
        "# print(mylist[-1])\n",
        "# print(mylist[1:])\n",
        "# print(mylist[:3])\n",
        "\n",
        "\n",
        "from typing import List\n",
        "\n",
        "def get_last_three_element(mylist: List[int]) -> List[int] :\n",
        "  # return mylist[len(mylist) - 3:] ## getting last three indexes from the list\n",
        "   return mylist[-3:]\n",
        "\n",
        "print(get_last_three_element([1,2,3]))\n",
        "print(get_last_three_element([1,2,3,4,5]))\n",
        "print(get_last_three_element([1,2,3,4,5,6,6,7,8]))\n",
        "\n"
      ],
      "metadata": {
        "colab": {
          "base_uri": "https://localhost:8080/"
        },
        "id": "e71t2bZOgaWt",
        "outputId": "1d4a947e-1571-4f5a-da59-44e87cfd864b"
      },
      "execution_count": null,
      "outputs": [
        {
          "output_type": "stream",
          "name": "stdout",
          "text": [
            "[1, 2, 3]\n",
            "[3, 4, 5]\n",
            "[6, 7, 8]\n"
          ]
        }
      ]
    },
    {
      "cell_type": "markdown",
      "source": [
        "# Tuples\n",
        "tuples are very similar to lists, but they have one key difference:\n",
        "   they are immutable\n",
        "\n",
        "we create a tuple using paranthesis instead of square brackets"
      ],
      "metadata": {
        "id": "lmhaobOiiSlD"
      }
    },
    {
      "cell_type": "code",
      "source": [
        "# my_tuples = (1,3,5)\n",
        "# print(my_tuples)\n",
        "# print(my_tuples[2])\n",
        "# print(my_tuples[1:])\n",
        "\n",
        "from typing import Tuple\n",
        "\n",
        "def create_pair(name: str, age: int) -> Tuple[str, int]:\n",
        "  return (name, age)\n",
        "\n",
        "print(create_pair(\"Alice\", 25))"
      ],
      "metadata": {
        "colab": {
          "base_uri": "https://localhost:8080/"
        },
        "id": "mHXblnEfiQk-",
        "outputId": "5d491352-0e9f-4fb5-e624-3f532eaeef12"
      },
      "execution_count": null,
      "outputs": [
        {
          "output_type": "stream",
          "name": "stdout",
          "text": [
            "('Alice', 25)\n"
          ]
        }
      ]
    },
    {
      "cell_type": "markdown",
      "source": [
        "# Intro to Set\n",
        "\n",
        "1. set is **unordered** ?(so if an ordered is important then you should use a list)\n",
        "2. a set can only contains **unique elements** if you try to add  a duplicatee element to a set , it will be ignored.\n",
        "\n",
        "3. In Python, curly braces {} are used to create dictionaries, not sets. When you use {}, Python interprets it as an empty dictionary.\n",
        "\n",
        "To create an empty set, you need to use the set() function instead."
      ],
      "metadata": {
        "id": "KXFegn5rj9PS"
      }
    },
    {
      "cell_type": "code",
      "source": [
        "# my_set = {1,3,5}\n",
        "# print(my_set)\n",
        "\n",
        "# my_set = {5,3,1} ## there is no guarentee of the order\n",
        "# print(my_set)\n",
        "\n",
        "# my_set = set()\n",
        "\n",
        "# my_set.add(1)\n",
        "# my_set.add(2)\n",
        "# my_set.add(1) ## already in the set (ignored) set cannot contain duplicate elements.\n",
        "# my_set.add(4)\n",
        "# my_set.add(5)\n",
        "\n",
        "# print(my_set)\n",
        "\n",
        "from typing import List, Set\n",
        "def list_to_set(nums: List[int]) -> Set[int]:\n",
        "  my_set = set() # empty set\n",
        "  for n in nums:\n",
        "    my_set.add(n)\n",
        "  return my_set\n",
        "\n",
        "\n",
        "\n",
        "print(list_to_set([1,2,3,4,5]))\n",
        "print(list_to_set([1,2,7,3,1,4,2,4,6,8,9,0,5]))"
      ],
      "metadata": {
        "colab": {
          "base_uri": "https://localhost:8080/"
        },
        "id": "EE3dZDwaj7HD",
        "outputId": "19bfa55c-e8fa-4195-a454-f69c86675ace"
      },
      "execution_count": null,
      "outputs": [
        {
          "output_type": "stream",
          "name": "stdout",
          "text": [
            "{1, 2, 3, 4, 5}\n",
            "{0, 1, 2, 3, 4, 5, 6, 7, 8, 9}\n"
          ]
        }
      ]
    },
    {
      "cell_type": "markdown",
      "source": [
        "# Set operations\n",
        "\n",
        "\n",
        "\n",
        "\n",
        "```\n",
        "# set operations\n",
        "my_set = {1,3,5,2}\n",
        "my_set.remove(2)\n",
        "print(my_set) # {1, 3, 5}\n",
        "\n",
        "## convert a list into a set by passing the list into the set() function\n",
        "## we can then convert the set back into a list by passing it into the list() function.\n",
        "\n",
        "mylist= [1,2,3,4,5,1,2,5]\n",
        "myset = set(mylist)\n",
        "\n",
        "print(myset) # {1, 2, 3, 4, 5}\n",
        "\n",
        "my_list_no_duplicates = list(myset)\n",
        "\n",
        "```\n",
        "\n"
      ],
      "metadata": {
        "id": "Suo9wqN_ozek"
      }
    },
    {
      "cell_type": "code",
      "source": [
        "# my_set = {\"cat\", \"dog\"}\n",
        "# containt = \"cat\" in my_set\n",
        "# print(containt)\n",
        "\n",
        "from typing import List\n",
        "\n",
        "def count_unique_words(words: List[str]) -> int:\n",
        "  word_set = set(words)\n",
        "  # count = 0\n",
        "  # for w in word_set:\n",
        "  #   count += 1\n",
        "  # return count\n",
        "  return len(word_set)\n",
        "\n",
        "print(count_unique_words([\"hello\", \"world\"]))\n",
        "print(count_unique_words([]))\n",
        "\n"
      ],
      "metadata": {
        "colab": {
          "base_uri": "https://localhost:8080/"
        },
        "id": "589IPIDMncGl",
        "outputId": "e2e0ab4c-6e8b-4514-b531-74708cf7a411"
      },
      "execution_count": null,
      "outputs": [
        {
          "output_type": "stream",
          "name": "stdout",
          "text": [
            "2\n",
            "0\n"
          ]
        }
      ]
    },
    {
      "cell_type": "code",
      "source": [
        "## Set Practice\n",
        "\n",
        "from typing import List\n",
        "\n",
        "def contains_duplicate(words: List[str]) -> bool:\n",
        "  myset = set(words)\n",
        "\n",
        "  # for w in words:\n",
        "  #   if w in myset:\n",
        "  #     return True\n",
        "  #   myset.add(w)\n",
        "  # return False\n",
        "\n",
        "  return len(myset) < len(words)\n",
        "\n",
        "\n",
        "print(contains_duplicate([\"hello\", \"hello\", \"hell\"]))\n",
        "\n",
        "print(contains_duplicate([\"hello\",  \"i\", \"am\"]))"
      ],
      "metadata": {
        "colab": {
          "base_uri": "https://localhost:8080/"
        },
        "id": "gVKhGcPDqfUx",
        "outputId": "69f6355c-4dd4-461b-92ee-855c3907bed9"
      },
      "execution_count": null,
      "outputs": [
        {
          "output_type": "stream",
          "name": "stdout",
          "text": [
            "True\n",
            "False\n"
          ]
        }
      ]
    },
    {
      "cell_type": "markdown",
      "source": [
        "# Dictionaries\n",
        "\n",
        " stores the key and value pairs\n",
        "\n",
        " 1. Another way of phrasing it is we are mapping a key to the value. This is why dictonaries are sometimes called maps or hashmaps in othe programming language\n"
      ],
      "metadata": {
        "id": "hLiNdZj1sIyr"
      }
    },
    {
      "cell_type": "code",
      "source": [
        "# my_dict = {\"Alice\" : 23, \"bob\" : 3, \"hello\" : 23}\n",
        "# print(my_dict)\n",
        "\n",
        "# my_dict = {} ## empty dictonary\n",
        "\n",
        "# my_dict[\"Alice\"] = 25\n",
        "# my_dict[\"bob\"] = 23\n",
        "# my_dict[\"helo\"] = 26\n",
        "\n",
        "from typing import List, Dict\n",
        "\n",
        "def create_dic(name:str, age: int) -> Dict[str, int] :\n",
        "  my_dict = {name: age}\n",
        "  return my_dict\n",
        "\n",
        "def list_to_dict(words: List[str]) -> Dict[str, int]:\n",
        "  my_dict = {}\n",
        "  for i in range(len(words)):\n",
        "    w = words[i]\n",
        "    my_dict[w] = i\n",
        "  return my_dict\n",
        "\n",
        "print(list_to_dict([\"alice\", \"bob\"]))"
      ],
      "metadata": {
        "colab": {
          "base_uri": "https://localhost:8080/"
        },
        "id": "r5XfRdsJsjd4",
        "outputId": "2518d142-a30a-432c-bbc8-3ed0f5a6e9c2"
      },
      "execution_count": null,
      "outputs": [
        {
          "output_type": "stream",
          "name": "stdout",
          "text": [
            "{'alice': 0, 'bob': 1}\n"
          ]
        }
      ]
    },
    {
      "cell_type": "code",
      "source": [
        "# dict operations\n",
        "\n",
        "# my_dict = {\"a\" : 1 , \"b\": 2}\n",
        "# print(my_dict[\"a\"])\n",
        "# my_dict[\"a\"]  = 4\n",
        "# print(my_dict[\"a\"])\n",
        "\n",
        "# values of  a dict can be a list, dictonary ,etc.\n",
        "\n",
        "yourdict={\n",
        "    \"a\": 10,\n",
        "    \"apple\" : 12,\n",
        "    \"bat\" : 7\n",
        "}\n",
        "\n",
        "print(yourdict)\n",
        "print(yourdict[\"a\"])\n",
        "print(\"d\" in yourdict )\n",
        "yourdict[\"a\"] = 3\n",
        "print(yourdict)\n"
      ],
      "metadata": {
        "colab": {
          "base_uri": "https://localhost:8080/"
        },
        "id": "czXq7IcNuo5P",
        "outputId": "240919b1-b143-4161-956d-f6fcfa0c7cab"
      },
      "execution_count": null,
      "outputs": [
        {
          "output_type": "stream",
          "name": "stdout",
          "text": [
            "{'a': 10, 'apple': 12, 'bat': 7}\n",
            "10\n",
            "False\n",
            "{'a': 3, 'apple': 12, 'bat': 7}\n"
          ]
        }
      ]
    },
    {
      "cell_type": "code",
      "source": [
        "## dict looping  using keyword \"in\"\n",
        "# also use items() method\n",
        "\n",
        "# my_dict = {\"a\" : 1 , \"b\": 2}\n",
        "# for key, value in my_dict.items():\n",
        "#   print(key,value)\n",
        "\n",
        "\n",
        "from typing import Dict, List\n",
        "\n",
        "def get_dict_keys(age_dict: Dict[str, int]) -> List[str]:\n",
        "  result = []\n",
        "  for name in age_dict:\n",
        "    result.append(name)\n",
        "  return result\n",
        "\n",
        "\n",
        "def get_dict_values(age_dict: Dict[str, int]) -> List[str]:\n",
        "  result = []\n",
        "  for name in age_dict:\n",
        "    age = age_dict[name]\n",
        "    result.append(age)\n",
        "  return result\n",
        "\n",
        "dict_1 = {\"john\" : 35, \"Doe\" : 34, \"jane\": 23}\n",
        "print(get_dict_keys(dict_1))\n",
        "print(get_dict_values(dict_1))"
      ],
      "metadata": {
        "colab": {
          "base_uri": "https://localhost:8080/"
        },
        "id": "vwv6QswwsptK",
        "outputId": "38e2d7ba-9a3f-467a-fb58-1d1b83bd72e3"
      },
      "execution_count": null,
      "outputs": [
        {
          "output_type": "stream",
          "name": "stdout",
          "text": [
            "['john', 'Doe', 'jane']\n",
            "[35, 34, 23]\n"
          ]
        }
      ]
    },
    {
      "cell_type": "code",
      "source": [
        "## dict practice\n",
        "## common use is count occurence\n",
        "\n",
        "\n",
        "from typing import Dict, List\n",
        "\n",
        "def count_characters(word: str) -> Dict[str, int]:\n",
        "\n",
        "  count = {}\n",
        "\n",
        "  # for char in word:\n",
        "  #   if char not in count:\n",
        "  #     count[char] = 0\n",
        "  #   count[char] = count[char] + 1\n",
        "\n",
        "  for char in word:\n",
        "    if char not in count:\n",
        "      count[char] = 1\n",
        "    else:\n",
        "      count[char] = count[char] + 1\n",
        "\n",
        "  return count\n",
        "\n",
        "print(count_characters(\"hello\"))\n",
        "print(count_characters(\"hellsdfao\"))"
      ],
      "metadata": {
        "colab": {
          "base_uri": "https://localhost:8080/"
        },
        "id": "ZpdoRqs7yBS1",
        "outputId": "ad3f86c1-a2c1-49a1-9492-e225a83c7b84"
      },
      "execution_count": null,
      "outputs": [
        {
          "output_type": "stream",
          "name": "stdout",
          "text": [
            "{'h': 1, 'e': 1, 'l': 2, 'o': 1}\n",
            "{'h': 1, 'e': 1, 'l': 2, 's': 1, 'd': 1, 'f': 1, 'a': 1, 'o': 1}\n"
          ]
        }
      ]
    },
    {
      "cell_type": "code",
      "source": [
        "# remove dict using pop() method or del keyword\n",
        "\n",
        "from typing import Dict, List\n",
        "def remove_keys(my_dict: Dict[str,int], keys: List[str]) ->  Dict[str, int]:\n",
        "\n",
        "  # for k in keys:\n",
        "  #   if k in my_dict:\n",
        "  #      my_dict.pop(k)\n",
        "\n",
        "  for k in keys: #parameter to not gice an error\n",
        "    my_dict.pop(k, 0)\n",
        "\n",
        "  return my_dict\n",
        "\n",
        "print(remove_keys({\"h\": 1, \"e\": 1, \"l\" : 2}, [\"h\" , \"a\"]))\n"
      ],
      "metadata": {
        "colab": {
          "base_uri": "https://localhost:8080/"
        },
        "id": "-nuA6EJrzgaU",
        "outputId": "11187fd2-1c31-4b53-8756-71ead3910af0"
      },
      "execution_count": null,
      "outputs": [
        {
          "output_type": "stream",
          "name": "stdout",
          "text": [
            "{'e': 1, 'l': 2}\n"
          ]
        }
      ]
    },
    {
      "cell_type": "code",
      "source": [
        "# Dict Values\n",
        "#print(my_dict(values))\n",
        "\n",
        "# converting the values of a dict into a list suing list() function\n",
        "my_dict = {\"a\":1, \"b\":2, \"c\" : 5}\n",
        "values = list(my_dict.values())\n",
        "print(values)\n",
        "\n",
        "\n",
        "from typing import Dict, List\n",
        "\n",
        "def get_dict_values(age_dict: Dict[str, int] ) -> List[int]:\n",
        "  return list(age_dict.values())\n",
        "\n",
        "print(get_dict_values({\"ant\":34, \"bat\":56, \"cat\" : 23}))\n"
      ],
      "metadata": {
        "colab": {
          "base_uri": "https://localhost:8080/"
        },
        "id": "uZLrXkn11tJk",
        "outputId": "22f24ee4-0213-4902-951e-a531b3898a75"
      },
      "execution_count": null,
      "outputs": [
        {
          "output_type": "stream",
          "name": "stdout",
          "text": [
            "[1, 2, 5]\n",
            "[34, 56, 23]\n"
          ]
        }
      ]
    },
    {
      "cell_type": "code",
      "source": [
        "# reading input from the console\n",
        "\n",
        "# user_input = input(\"Enter some text:\")\n",
        "# print(user_input)\n",
        "\n",
        "def read_and_print_input() -> None:\n",
        "  line = input(\"REad a line and do something:\")\n",
        "  print(line)\n",
        "\n",
        "read_and_print_input()\n",
        "read_and_print_input()\n"
      ],
      "metadata": {
        "id": "FhDBnRMj3Ggv",
        "colab": {
          "base_uri": "https://localhost:8080/",
          "height": 339
        },
        "outputId": "6ffc7f23-6aa6-4511-e0d0-2091a0433cca"
      },
      "execution_count": 200,
      "outputs": [
        {
          "output_type": "error",
          "ename": "KeyboardInterrupt",
          "evalue": "Interrupted by user",
          "traceback": [
            "\u001b[0;31m---------------------------------------------------------------------------\u001b[0m",
            "\u001b[0;31mKeyboardInterrupt\u001b[0m                         Traceback (most recent call last)",
            "\u001b[0;32m<ipython-input-200-00b921505655>\u001b[0m in \u001b[0;36m<cell line: 10>\u001b[0;34m()\u001b[0m\n\u001b[1;32m      8\u001b[0m   \u001b[0mprint\u001b[0m\u001b[0;34m(\u001b[0m\u001b[0mline\u001b[0m\u001b[0;34m)\u001b[0m\u001b[0;34m\u001b[0m\u001b[0;34m\u001b[0m\u001b[0m\n\u001b[1;32m      9\u001b[0m \u001b[0;34m\u001b[0m\u001b[0m\n\u001b[0;32m---> 10\u001b[0;31m \u001b[0mread_and_print_input\u001b[0m\u001b[0;34m(\u001b[0m\u001b[0;34m)\u001b[0m\u001b[0;34m\u001b[0m\u001b[0;34m\u001b[0m\u001b[0m\n\u001b[0m\u001b[1;32m     11\u001b[0m \u001b[0mread_and_print_input\u001b[0m\u001b[0;34m(\u001b[0m\u001b[0;34m)\u001b[0m\u001b[0;34m\u001b[0m\u001b[0;34m\u001b[0m\u001b[0m\n",
            "\u001b[0;32m<ipython-input-200-00b921505655>\u001b[0m in \u001b[0;36mread_and_print_input\u001b[0;34m()\u001b[0m\n\u001b[1;32m      5\u001b[0m \u001b[0;34m\u001b[0m\u001b[0m\n\u001b[1;32m      6\u001b[0m \u001b[0;32mdef\u001b[0m \u001b[0mread_and_print_input\u001b[0m\u001b[0;34m(\u001b[0m\u001b[0;34m)\u001b[0m \u001b[0;34m->\u001b[0m \u001b[0;32mNone\u001b[0m\u001b[0;34m:\u001b[0m\u001b[0;34m\u001b[0m\u001b[0;34m\u001b[0m\u001b[0m\n\u001b[0;32m----> 7\u001b[0;31m   \u001b[0mline\u001b[0m \u001b[0;34m=\u001b[0m \u001b[0minput\u001b[0m\u001b[0;34m(\u001b[0m\u001b[0;34m\"REad a line and do something:\"\u001b[0m\u001b[0;34m)\u001b[0m\u001b[0;34m\u001b[0m\u001b[0;34m\u001b[0m\u001b[0m\n\u001b[0m\u001b[1;32m      8\u001b[0m   \u001b[0mprint\u001b[0m\u001b[0;34m(\u001b[0m\u001b[0mline\u001b[0m\u001b[0;34m)\u001b[0m\u001b[0;34m\u001b[0m\u001b[0;34m\u001b[0m\u001b[0m\n\u001b[1;32m      9\u001b[0m \u001b[0;34m\u001b[0m\u001b[0m\n",
            "\u001b[0;32m/usr/local/lib/python3.10/dist-packages/ipykernel/kernelbase.py\u001b[0m in \u001b[0;36mraw_input\u001b[0;34m(self, prompt)\u001b[0m\n\u001b[1;32m    849\u001b[0m                 \u001b[0;34m\"raw_input was called, but this frontend does not support input requests.\"\u001b[0m\u001b[0;34m\u001b[0m\u001b[0;34m\u001b[0m\u001b[0m\n\u001b[1;32m    850\u001b[0m             )\n\u001b[0;32m--> 851\u001b[0;31m         return self._input_request(str(prompt),\n\u001b[0m\u001b[1;32m    852\u001b[0m             \u001b[0mself\u001b[0m\u001b[0;34m.\u001b[0m\u001b[0m_parent_ident\u001b[0m\u001b[0;34m,\u001b[0m\u001b[0;34m\u001b[0m\u001b[0;34m\u001b[0m\u001b[0m\n\u001b[1;32m    853\u001b[0m             \u001b[0mself\u001b[0m\u001b[0;34m.\u001b[0m\u001b[0m_parent_header\u001b[0m\u001b[0;34m,\u001b[0m\u001b[0;34m\u001b[0m\u001b[0;34m\u001b[0m\u001b[0m\n",
            "\u001b[0;32m/usr/local/lib/python3.10/dist-packages/ipykernel/kernelbase.py\u001b[0m in \u001b[0;36m_input_request\u001b[0;34m(self, prompt, ident, parent, password)\u001b[0m\n\u001b[1;32m    893\u001b[0m             \u001b[0;32mexcept\u001b[0m \u001b[0mKeyboardInterrupt\u001b[0m\u001b[0;34m:\u001b[0m\u001b[0;34m\u001b[0m\u001b[0;34m\u001b[0m\u001b[0m\n\u001b[1;32m    894\u001b[0m                 \u001b[0;31m# re-raise KeyboardInterrupt, to truncate traceback\u001b[0m\u001b[0;34m\u001b[0m\u001b[0;34m\u001b[0m\u001b[0m\n\u001b[0;32m--> 895\u001b[0;31m                 \u001b[0;32mraise\u001b[0m \u001b[0mKeyboardInterrupt\u001b[0m\u001b[0;34m(\u001b[0m\u001b[0;34m\"Interrupted by user\"\u001b[0m\u001b[0;34m)\u001b[0m \u001b[0;32mfrom\u001b[0m \u001b[0;32mNone\u001b[0m\u001b[0;34m\u001b[0m\u001b[0;34m\u001b[0m\u001b[0m\n\u001b[0m\u001b[1;32m    896\u001b[0m             \u001b[0;32mexcept\u001b[0m \u001b[0mException\u001b[0m \u001b[0;32mas\u001b[0m \u001b[0me\u001b[0m\u001b[0;34m:\u001b[0m\u001b[0;34m\u001b[0m\u001b[0;34m\u001b[0m\u001b[0m\n\u001b[1;32m    897\u001b[0m                 \u001b[0mself\u001b[0m\u001b[0;34m.\u001b[0m\u001b[0mlog\u001b[0m\u001b[0;34m.\u001b[0m\u001b[0mwarning\u001b[0m\u001b[0;34m(\u001b[0m\u001b[0;34m\"Invalid Message:\"\u001b[0m\u001b[0;34m,\u001b[0m \u001b[0mexc_info\u001b[0m\u001b[0;34m=\u001b[0m\u001b[0;32mTrue\u001b[0m\u001b[0;34m)\u001b[0m\u001b[0;34m\u001b[0m\u001b[0;34m\u001b[0m\u001b[0m\n",
            "\u001b[0;31mKeyboardInterrupt\u001b[0m: Interrupted by user"
          ]
        }
      ]
    },
    {
      "cell_type": "code",
      "source": [
        "## type conversion with input\n",
        "\n",
        "# user_input = input() ## this will read one line of input from stdin\n",
        "# print(user_input)\n",
        "\n",
        "\n",
        "def read_int() -> int:\n",
        "  integer = int(input())\n",
        "  return integer\n",
        "\n",
        "def read_float() -> float:\n",
        "  myfloat = float(input())\n",
        "  return myfloat\n",
        "\n",
        "print(read_int())\n",
        "# print(read_int())\n",
        "# print(read_int())\n",
        "\n",
        "print(read_float())\n",
        "# print(read_float())\n",
        "# print(read_float())"
      ],
      "metadata": {
        "id": "6qThrOmn8tmN",
        "colab": {
          "base_uri": "https://localhost:8080/"
        },
        "outputId": "2766c348-f5f2-4887-ca18-be8915930031"
      },
      "execution_count": 213,
      "outputs": [
        {
          "output_type": "stream",
          "name": "stdout",
          "text": [
            "5\n",
            "5\n",
            "4.5\n",
            "4.5\n"
          ]
        }
      ]
    },
    {
      "cell_type": "markdown",
      "source": [
        "## Parse Input\n",
        "\n",
        "1. sometimes we have to do more things than just converting the input to a single type.\n",
        "2. we might need to recontruct the input in some way. This is called **Parsing** the input\n",
        "\n",
        "suppose we read alist of int's separated by comma into a string.\n",
        "but you want to store them as a list. you can use the split() method to split the string by commas. This will conv. \"1,2,3\" into a list of strings [\"1\", \"2\",\"3\"]"
      ],
      "metadata": {
        "id": "fRDHAnOW85SS"
      }
    },
    {
      "cell_type": "code",
      "source": [
        "# number_string = \"1,2,3\"\n",
        "# string_list = number_string.split(\",\")\n",
        "# print(string_list)\n",
        "\n",
        "\n",
        "from typing import List\n",
        "\n",
        "def read_integer() -> List[int]:\n",
        "  line = input()\n",
        "  list_of_strings = line.split(\",\")\n",
        "  list_of_int = []\n",
        "\n",
        "  for string in list_of_strings:\n",
        "     list_of_int.append(int(string))\n",
        "  return list_of_int\n",
        "\n",
        "print(read_integer())\n",
        "\n",
        "\n",
        "print(read_integer())\n",
        "print(read_integer())\n",
        "print(read_integer())"
      ],
      "metadata": {
        "id": "r3y69URE8wPI",
        "colab": {
          "base_uri": "https://localhost:8080/"
        },
        "outputId": "9b014cd2-dd38-4857-82a8-b07f0ae81028"
      },
      "execution_count": 214,
      "outputs": [
        {
          "output_type": "stream",
          "name": "stdout",
          "text": [
            "4\n",
            "[4]\n",
            "46,16,48\n",
            "[46, 16, 48]\n",
            "48,35,78\n",
            "[48, 35, 78]\n",
            "473,496,597,4034\n",
            "[473, 496, 597, 4034]\n"
          ]
        }
      ]
    },
    {
      "cell_type": "markdown",
      "source": [
        "# Reading Input practice\n",
        "      "
      ],
      "metadata": {
        "id": "dXJdxj4m_u10"
      }
    },
    {
      "cell_type": "code",
      "source": [
        "def add_two_numbers() -> int:\n",
        "  line = input()\n",
        "  numbers = line.split(\",\")\n",
        "  return int(numbers[0]) + int(numbers[1])\n",
        "\n",
        "print(add_two_numbers())"
      ],
      "metadata": {
        "colab": {
          "base_uri": "https://localhost:8080/"
        },
        "id": "-xRzLCDS_VPP",
        "outputId": "f74d4a17-de20-4396-dfce-e2c673290a1e"
      },
      "execution_count": 209,
      "outputs": [
        {
          "output_type": "stream",
          "name": "stdout",
          "text": [
            "5,5\n",
            "10\n"
          ]
        }
      ]
    },
    {
      "cell_type": "markdown",
      "source": [
        "# Exceptional handling\n",
        " ## Try Except\n"
      ],
      "metadata": {
        "id": "cuzEn7GVAxKH"
      }
    },
    {
      "cell_type": "code",
      "source": [
        "# res = 10 /0\n",
        "# print(\"This will be printed regardless..\")\n",
        "\n",
        "# try: ## try block is reminiscent of an if-else statement\n",
        "#   res= 10 / 0\n",
        "# except:\n",
        "#   print(\"An error occured!\")\n",
        "\n",
        "# print(\"This will be printed regardless..\")\n",
        "\n",
        "def divide_numbers(a: int, b: int) -> None:\n",
        "  try:\n",
        "    res = a / b\n",
        "    print(res)\n",
        "  except:\n",
        "    print(\"An error occured!\")\n",
        "\n",
        "divide_numbers(13,4)\n",
        "divide_numbers(12,4)\n",
        "divide_numbers(13,0)\n"
      ],
      "metadata": {
        "colab": {
          "base_uri": "https://localhost:8080/"
        },
        "id": "zaeks3JNA8Gh",
        "outputId": "dd0fe3df-0575-46f8-c473-9f7a4afeab58"
      },
      "execution_count": 219,
      "outputs": [
        {
          "output_type": "stream",
          "name": "stdout",
          "text": [
            "3.25\n",
            "3.0\n",
            "An error occured!\n"
          ]
        }
      ]
    },
    {
      "cell_type": "markdown",
      "source": [
        "Error Catching"
      ],
      "metadata": {
        "id": "VACgpFc8B8NG"
      }
    },
    {
      "cell_type": "code",
      "source": [
        "# try:\n",
        "#   res = 10 / 0\n",
        "# except Exception as error:\n",
        "#   print(\"Error!\", error)\n",
        "\n",
        "\n",
        "def divide_numbers(a: str, b: str) -> None:\n",
        "  try:\n",
        "    a_int = int(a)\n",
        "    b_int = int(b)\n",
        "    res = a_int / b_int\n",
        "    print(res)\n",
        "  except Exception as error:\n",
        "    print(\"An error occured:\", error)\n",
        "\n",
        "print(divide_numbers(\"19\", \"3\"))\n",
        "print(divide_numbers(\"19\", \"not a number\"))\n"
      ],
      "metadata": {
        "colab": {
          "base_uri": "https://localhost:8080/"
        },
        "id": "jVTGsJEyB_T8",
        "outputId": "f694951c-2b32-40ea-de14-4d7c50c1c13f"
      },
      "execution_count": 224,
      "outputs": [
        {
          "output_type": "stream",
          "name": "stdout",
          "text": [
            "6.333333333333333\n",
            "None\n",
            "An error occured: invalid literal for int() with base 10: 'not a number'\n",
            "None\n"
          ]
        }
      ]
    },
    {
      "cell_type": "markdown",
      "source": [
        "**Multiple Except Blocks**"
      ],
      "metadata": {
        "id": "yloGKAV-C3rm"
      }
    },
    {
      "cell_type": "code",
      "source": [
        "def divide_number(a:str, b: str) -> None:\n",
        "  try:\n",
        "    a_int = int(a)\n",
        "    b_int = int(b)\n",
        "    res = a_int / b_int\n",
        "    print(res)\n",
        "\n",
        "  except ValueError:\n",
        "    print(\"Error: Invalid Value!\")\n",
        "  except ZeroDivisionError:\n",
        "    print(\"Error: Division by zero!\")\n",
        "\n",
        "divide_number(\"10\",\"2\")\n",
        "divide_number(\"10\",\"0\")\n",
        "divide_number(\"10\",\"not a number\")\n",
        "\n",
        "\n"
      ],
      "metadata": {
        "colab": {
          "base_uri": "https://localhost:8080/"
        },
        "id": "i0d33IYwDTd3",
        "outputId": "9bcba108-21b6-42ab-e3cb-8213a876e9f1"
      },
      "execution_count": 226,
      "outputs": [
        {
          "output_type": "stream",
          "name": "stdout",
          "text": [
            "5.0\n",
            "Error: Division by zero!\n",
            "Error: Invalid Value!\n"
          ]
        }
      ]
    },
    {
      "cell_type": "markdown",
      "source": [
        "**Happy Learning 😊**"
      ],
      "metadata": {
        "id": "yWbwz6a4DREw"
      }
    }
  ]
}